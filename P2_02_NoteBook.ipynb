{
 "cells": [
  {
   "cell_type": "markdown",
   "metadata": {},
   "source": [
    "# TRAVAIL A FAIRE POUR REPONDRE A LA PROBLEMATIQUE"
   ]
  },
  {
   "cell_type": "code",
   "execution_count": null,
   "metadata": {},
   "outputs": [],
   "source": []
  },
  {
   "cell_type": "code",
   "execution_count": 1,
   "metadata": {},
   "outputs": [],
   "source": [
    "import pandas as pd"
   ]
  },
  {
   "cell_type": "code",
   "execution_count": 2,
   "metadata": {},
   "outputs": [],
   "source": [
    "import matplotlib.pyplot as plt\n",
    "import seaborn as sns"
   ]
  },
  {
   "cell_type": "code",
   "execution_count": 3,
   "metadata": {},
   "outputs": [],
   "source": [
    "#!pip install missingno\n",
    "import missingno"
   ]
  },
  {
   "cell_type": "code",
   "execution_count": null,
   "metadata": {},
   "outputs": [],
   "source": []
  },
  {
   "cell_type": "code",
   "execution_count": null,
   "metadata": {},
   "outputs": [],
   "source": []
  },
  {
   "cell_type": "markdown",
   "metadata": {},
   "source": [
    "# 1 - 1 Fichier_csv_1 : 'EdStatsCountry-Series.csv'"
   ]
  },
  {
   "cell_type": "markdown",
   "metadata": {},
   "source": [
    "# 1 - Décrire les informations contenues dans le jeu de données (nombre de colonnes ? nombre de lignes ?)"
   ]
  },
  {
   "cell_type": "code",
   "execution_count": 17,
   "metadata": {},
   "outputs": [],
   "source": [
    "df_1 = pd.read_csv('EdStatsCountry-Series.csv')"
   ]
  },
  {
   "cell_type": "markdown",
   "metadata": {},
   "source": [
    "Utilisons la méthode info() pour voir le nombre d'entrées (lignes), le nombre et nom de colonnes dans notre DF,\n",
    "      le nombre de valeur non-null (donc null aussi), le(s) type(s) des données,\n",
    "      même la memoire utilisée par le df"
   ]
  },
  {
   "cell_type": "code",
   "execution_count": 22,
   "metadata": {},
   "outputs": [
    {
     "name": "stdout",
     "output_type": "stream",
     "text": [
      "<class 'pandas.core.frame.DataFrame'>\n",
      "RangeIndex: 613 entries, 0 to 612\n",
      "Data columns (total 4 columns):\n",
      " #   Column       Non-Null Count  Dtype  \n",
      "---  ------       --------------  -----  \n",
      " 0   CountryCode  613 non-null    object \n",
      " 1   SeriesCode   613 non-null    object \n",
      " 2   DESCRIPTION  613 non-null    object \n",
      " 3   Unnamed: 3   0 non-null      float64\n",
      "dtypes: float64(1), object(3)\n",
      "memory usage: 19.3+ KB\n"
     ]
    }
   ],
   "source": [
    "df_1.info()"
   ]
  },
  {
   "cell_type": "markdown",
   "metadata": {},
   "source": [
    "Ayons un aperçu de notre df en affichant l'entete (ici j'ai choisi de d'afficher que 3 premières lignes, sinon par defaut on a 5 lignes)"
   ]
  },
  {
   "cell_type": "code",
   "execution_count": 16,
   "metadata": {},
   "outputs": [
    {
     "data": {
      "text/html": [
       "<div>\n",
       "<style scoped>\n",
       "    .dataframe tbody tr th:only-of-type {\n",
       "        vertical-align: middle;\n",
       "    }\n",
       "\n",
       "    .dataframe tbody tr th {\n",
       "        vertical-align: top;\n",
       "    }\n",
       "\n",
       "    .dataframe thead th {\n",
       "        text-align: right;\n",
       "    }\n",
       "</style>\n",
       "<table border=\"1\" class=\"dataframe\">\n",
       "  <thead>\n",
       "    <tr style=\"text-align: right;\">\n",
       "      <th></th>\n",
       "      <th>CountryCode</th>\n",
       "      <th>SeriesCode</th>\n",
       "      <th>DESCRIPTION</th>\n",
       "      <th>Unnamed: 3</th>\n",
       "    </tr>\n",
       "  </thead>\n",
       "  <tbody>\n",
       "    <tr>\n",
       "      <th>0</th>\n",
       "      <td>ABW</td>\n",
       "      <td>SP.POP.TOTL</td>\n",
       "      <td>Data sources : United Nations World Population...</td>\n",
       "      <td>NaN</td>\n",
       "    </tr>\n",
       "    <tr>\n",
       "      <th>1</th>\n",
       "      <td>ABW</td>\n",
       "      <td>SP.POP.GROW</td>\n",
       "      <td>Data sources: United Nations World Population ...</td>\n",
       "      <td>NaN</td>\n",
       "    </tr>\n",
       "    <tr>\n",
       "      <th>2</th>\n",
       "      <td>AFG</td>\n",
       "      <td>SP.POP.GROW</td>\n",
       "      <td>Data sources: United Nations World Population ...</td>\n",
       "      <td>NaN</td>\n",
       "    </tr>\n",
       "  </tbody>\n",
       "</table>\n",
       "</div>"
      ],
      "text/plain": [
       "  CountryCode   SeriesCode                                        DESCRIPTION  \\\n",
       "0         ABW  SP.POP.TOTL  Data sources : United Nations World Population...   \n",
       "1         ABW  SP.POP.GROW  Data sources: United Nations World Population ...   \n",
       "2         AFG  SP.POP.GROW  Data sources: United Nations World Population ...   \n",
       "\n",
       "   Unnamed: 3  \n",
       "0         NaN  \n",
       "1         NaN  \n",
       "2         NaN  "
      ]
     },
     "execution_count": 16,
     "metadata": {},
     "output_type": "execute_result"
    }
   ],
   "source": [
    "df_1.head(3)"
   ]
  },
  {
   "cell_type": "code",
   "execution_count": 6,
   "metadata": {},
   "outputs": [
    {
     "name": "stdout",
     "output_type": "stream",
     "text": [
      "la méthode shape aussi permet de connaitre la dimension d'un df :  (613, 4)\n"
     ]
    }
   ],
   "source": [
    "print(\"la méthode shape aussi permet de connaitre la dimension d'un df : \",df_1.shape)"
   ]
  },
  {
   "cell_type": "markdown",
   "metadata": {},
   "source": [
    "# 1 - 2 Fichier_csv_2 :"
   ]
  },
  {
   "cell_type": "code",
   "execution_count": 4,
   "metadata": {},
   "outputs": [],
   "source": [
    "df_2 = pd.read_csv('EdStatsCountry.csv')"
   ]
  },
  {
   "cell_type": "code",
   "execution_count": 21,
   "metadata": {
    "scrolled": true
   },
   "outputs": [
    {
     "name": "stdout",
     "output_type": "stream",
     "text": [
      "<class 'pandas.core.frame.DataFrame'>\n",
      "RangeIndex: 241 entries, 0 to 240\n",
      "Data columns (total 32 columns):\n",
      " #   Column                                             Non-Null Count  Dtype  \n",
      "---  ------                                             --------------  -----  \n",
      " 0   Country Code                                       241 non-null    object \n",
      " 1   Short Name                                         241 non-null    object \n",
      " 2   Table Name                                         241 non-null    object \n",
      " 3   Long Name                                          241 non-null    object \n",
      " 4   2-alpha code                                       238 non-null    object \n",
      " 5   Currency Unit                                      215 non-null    object \n",
      " 6   Special Notes                                      145 non-null    object \n",
      " 7   Region                                             214 non-null    object \n",
      " 8   Income Group                                       214 non-null    object \n",
      " 9   WB-2 code                                          240 non-null    object \n",
      " 10  National accounts base year                        205 non-null    object \n",
      " 11  National accounts reference year                   32 non-null     float64\n",
      " 12  SNA price valuation                                197 non-null    object \n",
      " 13  Lending category                                   144 non-null    object \n",
      " 14  Other groups                                       58 non-null     object \n",
      " 15  System of National Accounts                        215 non-null    object \n",
      " 16  Alternative conversion factor                      47 non-null     object \n",
      " 17  PPP survey year                                    145 non-null    object \n",
      " 18  Balance of Payments Manual in use                  181 non-null    object \n",
      " 19  External debt Reporting status                     124 non-null    object \n",
      " 20  System of trade                                    200 non-null    object \n",
      " 21  Government Accounting concept                      161 non-null    object \n",
      " 22  IMF data dissemination standard                    181 non-null    object \n",
      " 23  Latest population census                           213 non-null    object \n",
      " 24  Latest household survey                            141 non-null    object \n",
      " 25  Source of most recent Income and expenditure data  160 non-null    object \n",
      " 26  Vital registration complete                        111 non-null    object \n",
      " 27  Latest agricultural census                         142 non-null    object \n",
      " 28  Latest industrial data                             107 non-null    float64\n",
      " 29  Latest trade data                                  185 non-null    float64\n",
      " 30  Latest water withdrawal data                       179 non-null    object \n",
      " 31  Unnamed: 31                                        0 non-null      float64\n",
      "dtypes: float64(4), object(28)\n",
      "memory usage: 60.4+ KB\n"
     ]
    }
   ],
   "source": [
    "df_2.info()"
   ]
  },
  {
   "cell_type": "markdown",
   "metadata": {},
   "source": [
    "df_2.info() nous permet de voir que notre dataset contient :"
   ]
  },
  {
   "cell_type": "markdown",
   "metadata": {},
   "source": [
    "241 ligne indexé de 0 à 240, de 32 colonnes, de 4 colonne en float et 28 en object (dtype) et memoire utilisé de 60.4+ KB"
   ]
  },
  {
   "cell_type": "markdown",
   "metadata": {},
   "source": [
    "On a également les noms des colonnes ainsi le nombre de valeurs non-NULL de chaque colonne."
   ]
  },
  {
   "cell_type": "code",
   "execution_count": 9,
   "metadata": {
    "scrolled": false
   },
   "outputs": [
    {
     "data": {
      "text/html": [
       "<div>\n",
       "<style scoped>\n",
       "    .dataframe tbody tr th:only-of-type {\n",
       "        vertical-align: middle;\n",
       "    }\n",
       "\n",
       "    .dataframe tbody tr th {\n",
       "        vertical-align: top;\n",
       "    }\n",
       "\n",
       "    .dataframe thead th {\n",
       "        text-align: right;\n",
       "    }\n",
       "</style>\n",
       "<table border=\"1\" class=\"dataframe\">\n",
       "  <thead>\n",
       "    <tr style=\"text-align: right;\">\n",
       "      <th></th>\n",
       "      <th>Country Code</th>\n",
       "      <th>Short Name</th>\n",
       "      <th>Table Name</th>\n",
       "      <th>Long Name</th>\n",
       "      <th>2-alpha code</th>\n",
       "      <th>Currency Unit</th>\n",
       "      <th>Special Notes</th>\n",
       "      <th>Region</th>\n",
       "      <th>Income Group</th>\n",
       "      <th>WB-2 code</th>\n",
       "      <th>...</th>\n",
       "      <th>IMF data dissemination standard</th>\n",
       "      <th>Latest population census</th>\n",
       "      <th>Latest household survey</th>\n",
       "      <th>Source of most recent Income and expenditure data</th>\n",
       "      <th>Vital registration complete</th>\n",
       "      <th>Latest agricultural census</th>\n",
       "      <th>Latest industrial data</th>\n",
       "      <th>Latest trade data</th>\n",
       "      <th>Latest water withdrawal data</th>\n",
       "      <th>Unnamed: 31</th>\n",
       "    </tr>\n",
       "  </thead>\n",
       "  <tbody>\n",
       "    <tr>\n",
       "      <th>0</th>\n",
       "      <td>ABW</td>\n",
       "      <td>Aruba</td>\n",
       "      <td>Aruba</td>\n",
       "      <td>Aruba</td>\n",
       "      <td>AW</td>\n",
       "      <td>Aruban florin</td>\n",
       "      <td>SNA data for 2000-2011 are updated from offici...</td>\n",
       "      <td>Latin America &amp; Caribbean</td>\n",
       "      <td>High income: nonOECD</td>\n",
       "      <td>AW</td>\n",
       "      <td>...</td>\n",
       "      <td>NaN</td>\n",
       "      <td>2010</td>\n",
       "      <td>NaN</td>\n",
       "      <td>NaN</td>\n",
       "      <td>Yes</td>\n",
       "      <td>NaN</td>\n",
       "      <td>NaN</td>\n",
       "      <td>2012.0</td>\n",
       "      <td>NaN</td>\n",
       "      <td>NaN</td>\n",
       "    </tr>\n",
       "    <tr>\n",
       "      <th>1</th>\n",
       "      <td>AFG</td>\n",
       "      <td>Afghanistan</td>\n",
       "      <td>Afghanistan</td>\n",
       "      <td>Islamic State of Afghanistan</td>\n",
       "      <td>AF</td>\n",
       "      <td>Afghan afghani</td>\n",
       "      <td>Fiscal year end: March 20; reporting period fo...</td>\n",
       "      <td>South Asia</td>\n",
       "      <td>Low income</td>\n",
       "      <td>AF</td>\n",
       "      <td>...</td>\n",
       "      <td>General Data Dissemination System (GDDS)</td>\n",
       "      <td>1979</td>\n",
       "      <td>Multiple Indicator Cluster Survey (MICS), 2010/11</td>\n",
       "      <td>Integrated household survey (IHS), 2008</td>\n",
       "      <td>NaN</td>\n",
       "      <td>2013/14</td>\n",
       "      <td>NaN</td>\n",
       "      <td>2012.0</td>\n",
       "      <td>2000</td>\n",
       "      <td>NaN</td>\n",
       "    </tr>\n",
       "  </tbody>\n",
       "</table>\n",
       "<p>2 rows × 32 columns</p>\n",
       "</div>"
      ],
      "text/plain": [
       "  Country Code   Short Name   Table Name                     Long Name  \\\n",
       "0          ABW        Aruba        Aruba                         Aruba   \n",
       "1          AFG  Afghanistan  Afghanistan  Islamic State of Afghanistan   \n",
       "\n",
       "  2-alpha code   Currency Unit  \\\n",
       "0           AW   Aruban florin   \n",
       "1           AF  Afghan afghani   \n",
       "\n",
       "                                       Special Notes  \\\n",
       "0  SNA data for 2000-2011 are updated from offici...   \n",
       "1  Fiscal year end: March 20; reporting period fo...   \n",
       "\n",
       "                      Region          Income Group WB-2 code  ...  \\\n",
       "0  Latin America & Caribbean  High income: nonOECD        AW  ...   \n",
       "1                 South Asia            Low income        AF  ...   \n",
       "\n",
       "            IMF data dissemination standard  Latest population census  \\\n",
       "0                                       NaN                      2010   \n",
       "1  General Data Dissemination System (GDDS)                      1979   \n",
       "\n",
       "                             Latest household survey  \\\n",
       "0                                                NaN   \n",
       "1  Multiple Indicator Cluster Survey (MICS), 2010/11   \n",
       "\n",
       "  Source of most recent Income and expenditure data  \\\n",
       "0                                               NaN   \n",
       "1           Integrated household survey (IHS), 2008   \n",
       "\n",
       "  Vital registration complete Latest agricultural census  \\\n",
       "0                         Yes                        NaN   \n",
       "1                         NaN                    2013/14   \n",
       "\n",
       "  Latest industrial data Latest trade data Latest water withdrawal data  \\\n",
       "0                    NaN            2012.0                          NaN   \n",
       "1                    NaN            2012.0                         2000   \n",
       "\n",
       "  Unnamed: 31  \n",
       "0         NaN  \n",
       "1         NaN  \n",
       "\n",
       "[2 rows x 32 columns]"
      ]
     },
     "execution_count": 9,
     "metadata": {},
     "output_type": "execute_result"
    }
   ],
   "source": [
    "df_2.head(2)"
   ]
  },
  {
   "cell_type": "code",
   "execution_count": null,
   "metadata": {},
   "outputs": [],
   "source": []
  },
  {
   "cell_type": "markdown",
   "metadata": {},
   "source": [
    "# 1 - 3 Fichier_csv_3 :"
   ]
  },
  {
   "cell_type": "code",
   "execution_count": 5,
   "metadata": {},
   "outputs": [],
   "source": [
    "df_3 = pd.read_csv('EdStatsData.csv')"
   ]
  },
  {
   "cell_type": "code",
   "execution_count": 25,
   "metadata": {
    "scrolled": true
   },
   "outputs": [
    {
     "name": "stdout",
     "output_type": "stream",
     "text": [
      "<class 'pandas.core.frame.DataFrame'>\n",
      "RangeIndex: 886930 entries, 0 to 886929\n",
      "Data columns (total 70 columns):\n",
      " #   Column          Non-Null Count   Dtype  \n",
      "---  ------          --------------   -----  \n",
      " 0   Country Name    886930 non-null  object \n",
      " 1   Country Code    886930 non-null  object \n",
      " 2   Indicator Name  886930 non-null  object \n",
      " 3   Indicator Code  886930 non-null  object \n",
      " 4   1970            72288 non-null   float64\n",
      " 5   1971            35537 non-null   float64\n",
      " 6   1972            35619 non-null   float64\n",
      " 7   1973            35545 non-null   float64\n",
      " 8   1974            35730 non-null   float64\n",
      " 9   1975            87306 non-null   float64\n",
      " 10  1976            37483 non-null   float64\n",
      " 11  1977            37574 non-null   float64\n",
      " 12  1978            37576 non-null   float64\n",
      " 13  1979            36809 non-null   float64\n",
      " 14  1980            89122 non-null   float64\n",
      " 15  1981            38777 non-null   float64\n",
      " 16  1982            37511 non-null   float64\n",
      " 17  1983            38460 non-null   float64\n",
      " 18  1984            38606 non-null   float64\n",
      " 19  1985            90296 non-null   float64\n",
      " 20  1986            39372 non-null   float64\n",
      " 21  1987            38641 non-null   float64\n",
      " 22  1988            38552 non-null   float64\n",
      " 23  1989            37540 non-null   float64\n",
      " 24  1990            124405 non-null  float64\n",
      " 25  1991            74437 non-null   float64\n",
      " 26  1992            75543 non-null   float64\n",
      " 27  1993            75793 non-null   float64\n",
      " 28  1994            77462 non-null   float64\n",
      " 29  1995            131361 non-null  float64\n",
      " 30  1996            76807 non-null   float64\n",
      " 31  1997            73453 non-null   float64\n",
      " 32  1998            84914 non-null   float64\n",
      " 33  1999            118839 non-null  float64\n",
      " 34  2000            176676 non-null  float64\n",
      " 35  2001            123509 non-null  float64\n",
      " 36  2002            124205 non-null  float64\n",
      " 37  2003            130363 non-null  float64\n",
      " 38  2004            128814 non-null  float64\n",
      " 39  2005            184108 non-null  float64\n",
      " 40  2006            140312 non-null  float64\n",
      " 41  2007            137272 non-null  float64\n",
      " 42  2008            134387 non-null  float64\n",
      " 43  2009            142108 non-null  float64\n",
      " 44  2010            242442 non-null  float64\n",
      " 45  2011            146012 non-null  float64\n",
      " 46  2012            147264 non-null  float64\n",
      " 47  2013            137509 non-null  float64\n",
      " 48  2014            113789 non-null  float64\n",
      " 49  2015            131058 non-null  float64\n",
      " 50  2016            16460 non-null   float64\n",
      " 51  2017            143 non-null     float64\n",
      " 52  2020            51436 non-null   float64\n",
      " 53  2025            51436 non-null   float64\n",
      " 54  2030            51436 non-null   float64\n",
      " 55  2035            51436 non-null   float64\n",
      " 56  2040            51436 non-null   float64\n",
      " 57  2045            51436 non-null   float64\n",
      " 58  2050            51436 non-null   float64\n",
      " 59  2055            51436 non-null   float64\n",
      " 60  2060            51436 non-null   float64\n",
      " 61  2065            51436 non-null   float64\n",
      " 62  2070            51436 non-null   float64\n",
      " 63  2075            51436 non-null   float64\n",
      " 64  2080            51436 non-null   float64\n",
      " 65  2085            51436 non-null   float64\n",
      " 66  2090            51436 non-null   float64\n",
      " 67  2095            51436 non-null   float64\n",
      " 68  2100            51436 non-null   float64\n",
      " 69  Unnamed: 69     0 non-null       float64\n",
      "dtypes: float64(66), object(4)\n",
      "memory usage: 473.7+ MB\n"
     ]
    }
   ],
   "source": [
    "df_3.info()"
   ]
  },
  {
   "cell_type": "markdown",
   "metadata": {},
   "source": [
    "df_3.info() nous permet de constater qu'on a 886930 entries (lignes), indexées de 0 to 886929, 70 colonnes, 66 colonnes en float et 4 colonnes en object et une memory usage de 473.7+ MB"
   ]
  },
  {
   "cell_type": "code",
   "execution_count": 12,
   "metadata": {
    "scrolled": true
   },
   "outputs": [
    {
     "data": {
      "text/html": [
       "<div>\n",
       "<style scoped>\n",
       "    .dataframe tbody tr th:only-of-type {\n",
       "        vertical-align: middle;\n",
       "    }\n",
       "\n",
       "    .dataframe tbody tr th {\n",
       "        vertical-align: top;\n",
       "    }\n",
       "\n",
       "    .dataframe thead th {\n",
       "        text-align: right;\n",
       "    }\n",
       "</style>\n",
       "<table border=\"1\" class=\"dataframe\">\n",
       "  <thead>\n",
       "    <tr style=\"text-align: right;\">\n",
       "      <th></th>\n",
       "      <th>Country Name</th>\n",
       "      <th>Country Code</th>\n",
       "      <th>Indicator Name</th>\n",
       "      <th>Indicator Code</th>\n",
       "      <th>1970</th>\n",
       "      <th>1971</th>\n",
       "      <th>1972</th>\n",
       "      <th>1973</th>\n",
       "      <th>1974</th>\n",
       "      <th>1975</th>\n",
       "      <th>...</th>\n",
       "      <th>2060</th>\n",
       "      <th>2065</th>\n",
       "      <th>2070</th>\n",
       "      <th>2075</th>\n",
       "      <th>2080</th>\n",
       "      <th>2085</th>\n",
       "      <th>2090</th>\n",
       "      <th>2095</th>\n",
       "      <th>2100</th>\n",
       "      <th>Unnamed: 69</th>\n",
       "    </tr>\n",
       "  </thead>\n",
       "  <tbody>\n",
       "    <tr>\n",
       "      <th>0</th>\n",
       "      <td>Arab World</td>\n",
       "      <td>ARB</td>\n",
       "      <td>Adjusted net enrolment rate, lower secondary, ...</td>\n",
       "      <td>UIS.NERA.2</td>\n",
       "      <td>NaN</td>\n",
       "      <td>NaN</td>\n",
       "      <td>NaN</td>\n",
       "      <td>NaN</td>\n",
       "      <td>NaN</td>\n",
       "      <td>NaN</td>\n",
       "      <td>...</td>\n",
       "      <td>NaN</td>\n",
       "      <td>NaN</td>\n",
       "      <td>NaN</td>\n",
       "      <td>NaN</td>\n",
       "      <td>NaN</td>\n",
       "      <td>NaN</td>\n",
       "      <td>NaN</td>\n",
       "      <td>NaN</td>\n",
       "      <td>NaN</td>\n",
       "      <td>NaN</td>\n",
       "    </tr>\n",
       "    <tr>\n",
       "      <th>1</th>\n",
       "      <td>Arab World</td>\n",
       "      <td>ARB</td>\n",
       "      <td>Adjusted net enrolment rate, lower secondary, ...</td>\n",
       "      <td>UIS.NERA.2.F</td>\n",
       "      <td>NaN</td>\n",
       "      <td>NaN</td>\n",
       "      <td>NaN</td>\n",
       "      <td>NaN</td>\n",
       "      <td>NaN</td>\n",
       "      <td>NaN</td>\n",
       "      <td>...</td>\n",
       "      <td>NaN</td>\n",
       "      <td>NaN</td>\n",
       "      <td>NaN</td>\n",
       "      <td>NaN</td>\n",
       "      <td>NaN</td>\n",
       "      <td>NaN</td>\n",
       "      <td>NaN</td>\n",
       "      <td>NaN</td>\n",
       "      <td>NaN</td>\n",
       "      <td>NaN</td>\n",
       "    </tr>\n",
       "  </tbody>\n",
       "</table>\n",
       "<p>2 rows × 70 columns</p>\n",
       "</div>"
      ],
      "text/plain": [
       "  Country Name Country Code  \\\n",
       "0   Arab World          ARB   \n",
       "1   Arab World          ARB   \n",
       "\n",
       "                                      Indicator Name Indicator Code  1970  \\\n",
       "0  Adjusted net enrolment rate, lower secondary, ...     UIS.NERA.2   NaN   \n",
       "1  Adjusted net enrolment rate, lower secondary, ...   UIS.NERA.2.F   NaN   \n",
       "\n",
       "   1971  1972  1973  1974  1975  ...  2060  2065  2070  2075  2080  2085  \\\n",
       "0   NaN   NaN   NaN   NaN   NaN  ...   NaN   NaN   NaN   NaN   NaN   NaN   \n",
       "1   NaN   NaN   NaN   NaN   NaN  ...   NaN   NaN   NaN   NaN   NaN   NaN   \n",
       "\n",
       "   2090  2095  2100  Unnamed: 69  \n",
       "0   NaN   NaN   NaN          NaN  \n",
       "1   NaN   NaN   NaN          NaN  \n",
       "\n",
       "[2 rows x 70 columns]"
      ]
     },
     "execution_count": 12,
     "metadata": {},
     "output_type": "execute_result"
    }
   ],
   "source": [
    "df_3.head(2)"
   ]
  },
  {
   "cell_type": "markdown",
   "metadata": {},
   "source": [
    "# 1 - 4 Fichier_csv_4 :"
   ]
  },
  {
   "cell_type": "code",
   "execution_count": 20,
   "metadata": {},
   "outputs": [],
   "source": [
    "df_4 = pd.read_csv('EdStatsFootNote.csv')"
   ]
  },
  {
   "cell_type": "code",
   "execution_count": 28,
   "metadata": {
    "scrolled": false
   },
   "outputs": [
    {
     "name": "stdout",
     "output_type": "stream",
     "text": [
      "<class 'pandas.core.frame.DataFrame'>\n",
      "RangeIndex: 643638 entries, 0 to 643637\n",
      "Data columns (total 5 columns):\n",
      " #   Column       Non-Null Count   Dtype  \n",
      "---  ------       --------------   -----  \n",
      " 0   CountryCode  643638 non-null  object \n",
      " 1   SeriesCode   643638 non-null  object \n",
      " 2   Year         643638 non-null  object \n",
      " 3   DESCRIPTION  643638 non-null  object \n",
      " 4   Unnamed: 4   0 non-null       float64\n",
      "dtypes: float64(1), object(4)\n",
      "memory usage: 24.6+ MB\n"
     ]
    }
   ],
   "source": [
    "df_4.info()"
   ]
  },
  {
   "cell_type": "code",
   "execution_count": 29,
   "metadata": {
    "scrolled": true
   },
   "outputs": [
    {
     "data": {
      "text/html": [
       "<div>\n",
       "<style scoped>\n",
       "    .dataframe tbody tr th:only-of-type {\n",
       "        vertical-align: middle;\n",
       "    }\n",
       "\n",
       "    .dataframe tbody tr th {\n",
       "        vertical-align: top;\n",
       "    }\n",
       "\n",
       "    .dataframe thead th {\n",
       "        text-align: right;\n",
       "    }\n",
       "</style>\n",
       "<table border=\"1\" class=\"dataframe\">\n",
       "  <thead>\n",
       "    <tr style=\"text-align: right;\">\n",
       "      <th></th>\n",
       "      <th>CountryCode</th>\n",
       "      <th>SeriesCode</th>\n",
       "      <th>Year</th>\n",
       "      <th>DESCRIPTION</th>\n",
       "      <th>Unnamed: 4</th>\n",
       "    </tr>\n",
       "  </thead>\n",
       "  <tbody>\n",
       "    <tr>\n",
       "      <th>0</th>\n",
       "      <td>ABW</td>\n",
       "      <td>SE.PRE.ENRL.FE</td>\n",
       "      <td>YR2001</td>\n",
       "      <td>Country estimation.</td>\n",
       "      <td>NaN</td>\n",
       "    </tr>\n",
       "    <tr>\n",
       "      <th>1</th>\n",
       "      <td>ABW</td>\n",
       "      <td>SE.TER.TCHR.FE</td>\n",
       "      <td>YR2005</td>\n",
       "      <td>Country estimation.</td>\n",
       "      <td>NaN</td>\n",
       "    </tr>\n",
       "    <tr>\n",
       "      <th>2</th>\n",
       "      <td>ABW</td>\n",
       "      <td>SE.PRE.TCHR.FE</td>\n",
       "      <td>YR2000</td>\n",
       "      <td>Country estimation.</td>\n",
       "      <td>NaN</td>\n",
       "    </tr>\n",
       "  </tbody>\n",
       "</table>\n",
       "</div>"
      ],
      "text/plain": [
       "  CountryCode      SeriesCode    Year          DESCRIPTION  Unnamed: 4\n",
       "0         ABW  SE.PRE.ENRL.FE  YR2001  Country estimation.         NaN\n",
       "1         ABW  SE.TER.TCHR.FE  YR2005  Country estimation.         NaN\n",
       "2         ABW  SE.PRE.TCHR.FE  YR2000  Country estimation.         NaN"
      ]
     },
     "execution_count": 29,
     "metadata": {},
     "output_type": "execute_result"
    }
   ],
   "source": [
    "df_4.head(3)"
   ]
  },
  {
   "cell_type": "markdown",
   "metadata": {},
   "source": [
    "# 1 - 5 Fichier_csv_5 :"
   ]
  },
  {
   "cell_type": "code",
   "execution_count": 21,
   "metadata": {},
   "outputs": [],
   "source": [
    "df_5 = pd.read_csv('EdStatsSeries.csv')"
   ]
  },
  {
   "cell_type": "code",
   "execution_count": 31,
   "metadata": {
    "scrolled": false
   },
   "outputs": [
    {
     "name": "stdout",
     "output_type": "stream",
     "text": [
      "<class 'pandas.core.frame.DataFrame'>\n",
      "RangeIndex: 3665 entries, 0 to 3664\n",
      "Data columns (total 21 columns):\n",
      " #   Column                               Non-Null Count  Dtype  \n",
      "---  ------                               --------------  -----  \n",
      " 0   Series Code                          3665 non-null   object \n",
      " 1   Topic                                3665 non-null   object \n",
      " 2   Indicator Name                       3665 non-null   object \n",
      " 3   Short definition                     2156 non-null   object \n",
      " 4   Long definition                      3665 non-null   object \n",
      " 5   Unit of measure                      0 non-null      float64\n",
      " 6   Periodicity                          99 non-null     object \n",
      " 7   Base Period                          314 non-null    object \n",
      " 8   Other notes                          552 non-null    object \n",
      " 9   Aggregation method                   47 non-null     object \n",
      " 10  Limitations and exceptions           14 non-null     object \n",
      " 11  Notes from original source           0 non-null      float64\n",
      " 12  General comments                     14 non-null     object \n",
      " 13  Source                               3665 non-null   object \n",
      " 14  Statistical concept and methodology  23 non-null     object \n",
      " 15  Development relevance                3 non-null      object \n",
      " 16  Related source links                 215 non-null    object \n",
      " 17  Other web links                      0 non-null      float64\n",
      " 18  Related indicators                   0 non-null      float64\n",
      " 19  License Type                         0 non-null      float64\n",
      " 20  Unnamed: 20                          0 non-null      float64\n",
      "dtypes: float64(6), object(15)\n",
      "memory usage: 601.4+ KB\n"
     ]
    }
   ],
   "source": [
    "df_5.info()"
   ]
  },
  {
   "cell_type": "markdown",
   "metadata": {},
   "source": [
    "df_5.info() nous permet de voir qu'on a 3665  entries (lignes), indexées de 0 to 3664, 21 colonnes, 6 colonnes en float et 15 colonnes en object et une memory usage de 601.4+ KB"
   ]
  },
  {
   "cell_type": "code",
   "execution_count": 32,
   "metadata": {
    "scrolled": false
   },
   "outputs": [
    {
     "data": {
      "text/html": [
       "<div>\n",
       "<style scoped>\n",
       "    .dataframe tbody tr th:only-of-type {\n",
       "        vertical-align: middle;\n",
       "    }\n",
       "\n",
       "    .dataframe tbody tr th {\n",
       "        vertical-align: top;\n",
       "    }\n",
       "\n",
       "    .dataframe thead th {\n",
       "        text-align: right;\n",
       "    }\n",
       "</style>\n",
       "<table border=\"1\" class=\"dataframe\">\n",
       "  <thead>\n",
       "    <tr style=\"text-align: right;\">\n",
       "      <th></th>\n",
       "      <th>Series Code</th>\n",
       "      <th>Topic</th>\n",
       "      <th>Indicator Name</th>\n",
       "      <th>Short definition</th>\n",
       "      <th>Long definition</th>\n",
       "      <th>Unit of measure</th>\n",
       "      <th>Periodicity</th>\n",
       "      <th>Base Period</th>\n",
       "      <th>Other notes</th>\n",
       "      <th>Aggregation method</th>\n",
       "      <th>...</th>\n",
       "      <th>Notes from original source</th>\n",
       "      <th>General comments</th>\n",
       "      <th>Source</th>\n",
       "      <th>Statistical concept and methodology</th>\n",
       "      <th>Development relevance</th>\n",
       "      <th>Related source links</th>\n",
       "      <th>Other web links</th>\n",
       "      <th>Related indicators</th>\n",
       "      <th>License Type</th>\n",
       "      <th>Unnamed: 20</th>\n",
       "    </tr>\n",
       "  </thead>\n",
       "  <tbody>\n",
       "    <tr>\n",
       "      <th>0</th>\n",
       "      <td>BAR.NOED.1519.FE.ZS</td>\n",
       "      <td>Attainment</td>\n",
       "      <td>Barro-Lee: Percentage of female population age...</td>\n",
       "      <td>Percentage of female population age 15-19 with...</td>\n",
       "      <td>Percentage of female population age 15-19 with...</td>\n",
       "      <td>NaN</td>\n",
       "      <td>NaN</td>\n",
       "      <td>NaN</td>\n",
       "      <td>NaN</td>\n",
       "      <td>NaN</td>\n",
       "      <td>...</td>\n",
       "      <td>NaN</td>\n",
       "      <td>NaN</td>\n",
       "      <td>Robert J. Barro and Jong-Wha Lee: http://www.b...</td>\n",
       "      <td>NaN</td>\n",
       "      <td>NaN</td>\n",
       "      <td>NaN</td>\n",
       "      <td>NaN</td>\n",
       "      <td>NaN</td>\n",
       "      <td>NaN</td>\n",
       "      <td>NaN</td>\n",
       "    </tr>\n",
       "    <tr>\n",
       "      <th>1</th>\n",
       "      <td>BAR.NOED.1519.ZS</td>\n",
       "      <td>Attainment</td>\n",
       "      <td>Barro-Lee: Percentage of population age 15-19 ...</td>\n",
       "      <td>Percentage of population age 15-19 with no edu...</td>\n",
       "      <td>Percentage of population age 15-19 with no edu...</td>\n",
       "      <td>NaN</td>\n",
       "      <td>NaN</td>\n",
       "      <td>NaN</td>\n",
       "      <td>NaN</td>\n",
       "      <td>NaN</td>\n",
       "      <td>...</td>\n",
       "      <td>NaN</td>\n",
       "      <td>NaN</td>\n",
       "      <td>Robert J. Barro and Jong-Wha Lee: http://www.b...</td>\n",
       "      <td>NaN</td>\n",
       "      <td>NaN</td>\n",
       "      <td>NaN</td>\n",
       "      <td>NaN</td>\n",
       "      <td>NaN</td>\n",
       "      <td>NaN</td>\n",
       "      <td>NaN</td>\n",
       "    </tr>\n",
       "    <tr>\n",
       "      <th>2</th>\n",
       "      <td>BAR.NOED.15UP.FE.ZS</td>\n",
       "      <td>Attainment</td>\n",
       "      <td>Barro-Lee: Percentage of female population age...</td>\n",
       "      <td>Percentage of female population age 15+ with n...</td>\n",
       "      <td>Percentage of female population age 15+ with n...</td>\n",
       "      <td>NaN</td>\n",
       "      <td>NaN</td>\n",
       "      <td>NaN</td>\n",
       "      <td>NaN</td>\n",
       "      <td>NaN</td>\n",
       "      <td>...</td>\n",
       "      <td>NaN</td>\n",
       "      <td>NaN</td>\n",
       "      <td>Robert J. Barro and Jong-Wha Lee: http://www.b...</td>\n",
       "      <td>NaN</td>\n",
       "      <td>NaN</td>\n",
       "      <td>NaN</td>\n",
       "      <td>NaN</td>\n",
       "      <td>NaN</td>\n",
       "      <td>NaN</td>\n",
       "      <td>NaN</td>\n",
       "    </tr>\n",
       "  </tbody>\n",
       "</table>\n",
       "<p>3 rows × 21 columns</p>\n",
       "</div>"
      ],
      "text/plain": [
       "           Series Code       Topic  \\\n",
       "0  BAR.NOED.1519.FE.ZS  Attainment   \n",
       "1     BAR.NOED.1519.ZS  Attainment   \n",
       "2  BAR.NOED.15UP.FE.ZS  Attainment   \n",
       "\n",
       "                                      Indicator Name  \\\n",
       "0  Barro-Lee: Percentage of female population age...   \n",
       "1  Barro-Lee: Percentage of population age 15-19 ...   \n",
       "2  Barro-Lee: Percentage of female population age...   \n",
       "\n",
       "                                    Short definition  \\\n",
       "0  Percentage of female population age 15-19 with...   \n",
       "1  Percentage of population age 15-19 with no edu...   \n",
       "2  Percentage of female population age 15+ with n...   \n",
       "\n",
       "                                     Long definition  Unit of measure  \\\n",
       "0  Percentage of female population age 15-19 with...              NaN   \n",
       "1  Percentage of population age 15-19 with no edu...              NaN   \n",
       "2  Percentage of female population age 15+ with n...              NaN   \n",
       "\n",
       "  Periodicity Base Period Other notes Aggregation method  ...  \\\n",
       "0         NaN         NaN         NaN                NaN  ...   \n",
       "1         NaN         NaN         NaN                NaN  ...   \n",
       "2         NaN         NaN         NaN                NaN  ...   \n",
       "\n",
       "  Notes from original source  General comments  \\\n",
       "0                        NaN               NaN   \n",
       "1                        NaN               NaN   \n",
       "2                        NaN               NaN   \n",
       "\n",
       "                                              Source  \\\n",
       "0  Robert J. Barro and Jong-Wha Lee: http://www.b...   \n",
       "1  Robert J. Barro and Jong-Wha Lee: http://www.b...   \n",
       "2  Robert J. Barro and Jong-Wha Lee: http://www.b...   \n",
       "\n",
       "  Statistical concept and methodology Development relevance  \\\n",
       "0                                 NaN                   NaN   \n",
       "1                                 NaN                   NaN   \n",
       "2                                 NaN                   NaN   \n",
       "\n",
       "  Related source links Other web links  Related indicators  License Type  \\\n",
       "0                  NaN             NaN                 NaN           NaN   \n",
       "1                  NaN             NaN                 NaN           NaN   \n",
       "2                  NaN             NaN                 NaN           NaN   \n",
       "\n",
       "   Unnamed: 20  \n",
       "0          NaN  \n",
       "1          NaN  \n",
       "2          NaN  \n",
       "\n",
       "[3 rows x 21 columns]"
      ]
     },
     "execution_count": 32,
     "metadata": {},
     "output_type": "execute_result"
    }
   ],
   "source": [
    "df_5.head(3)"
   ]
  },
  {
   "cell_type": "markdown",
   "metadata": {},
   "source": [
    "# 2 - Valider la qualité de ce jeu de données (comporte-t-il beaucoup de données manquantes, dupliquées ?)"
   ]
  },
  {
   "cell_type": "markdown",
   "metadata": {},
   "source": [
    "Maintenant qu'on a une idée du contenu de nos df, on peut passer à la validation de ce jeu de données"
   ]
  },
  {
   "cell_type": "markdown",
   "metadata": {},
   "source": [
    "# 2 - 1 Fichier_csv_1 :"
   ]
  },
  {
   "cell_type": "code",
   "execution_count": 9,
   "metadata": {},
   "outputs": [
    {
     "data": {
      "text/plain": [
       "CountryCode      0\n",
       "SeriesCode       0\n",
       "DESCRIPTION      0\n",
       "Unnamed: 3     613\n",
       "dtype: int64"
      ]
     },
     "execution_count": 9,
     "metadata": {},
     "output_type": "execute_result"
    }
   ],
   "source": [
    "# La ligne de code suivante nous permet de compter le nombre de valeur NULL par colonne\n",
    "df_1.isna().sum()"
   ]
  },
  {
   "cell_type": "markdown",
   "metadata": {},
   "source": [
    "le resultat du code ci-dessus nous permet de voir qu'on a que des valeurs NULL sur la dernière colonne"
   ]
  },
  {
   "cell_type": "markdown",
   "metadata": {},
   "source": [
    "On peut donc même se permettre de suprimer cette colonne qui nous avance en rien avec \"del df_1['Unnamed']\" juste après visualisation graphique"
   ]
  },
  {
   "cell_type": "code",
   "execution_count": null,
   "metadata": {},
   "outputs": [],
   "source": []
  },
  {
   "cell_type": "code",
   "execution_count": 10,
   "metadata": {},
   "outputs": [
    {
     "data": {
      "text/plain": [
       "<AxesSubplot:>"
      ]
     },
     "execution_count": 10,
     "metadata": {},
     "output_type": "execute_result"
    },
    {
     "data": {
      "image/png": "[encoded data removed]",
      "text/plain": [
       "<Figure size 432x288 with 2 Axes>"
      ]
     },
     "metadata": {
      "needs_background": "light"
     },
     "output_type": "display_data"
    }
   ],
   "source": [
    "# 1ere METHODE AVEC SEABORN\n",
    "sns.heatmap(df_1.isna())"
   ]
  },
  {
   "cell_type": "code",
   "execution_count": 106,
   "metadata": {},
   "outputs": [
    {
     "data": {
      "text/plain": [
       "<AxesSubplot:>"
      ]
     },
     "execution_count": 106,
     "metadata": {},
     "output_type": "execute_result"
    },
    {
     "data": {
      "image/png": "[encoded data removed]",
      "text/plain": [
       "<Figure size 720x360 with 2 Axes>"
      ]
     },
     "metadata": {
      "needs_background": "light"
     },
     "output_type": "display_data"
    }
   ],
   "source": [
    "# 2eme METHODE AVCE MISSINGNO\n",
    "missingno.matrix(df_1,figsize=(10,5), fontsize=8)"
   ]
  },
  {
   "cell_type": "code",
   "execution_count": 34,
   "metadata": {},
   "outputs": [
    {
     "name": "stdout",
     "output_type": "stream",
     "text": [
      "(613, 3)\n",
      "Index(['CountryCode', 'SeriesCode', 'DESCRIPTION'], dtype='object')\n"
     ]
    }
   ],
   "source": [
    "del df_1['Unnamed: 3']\n",
    "print(df_1.shape)\n",
    "print(df_1.columns)"
   ]
  },
  {
   "cell_type": "code",
   "execution_count": 14,
   "metadata": {},
   "outputs": [
    {
     "data": {
      "text/html": [
       "<div>\n",
       "<style scoped>\n",
       "    .dataframe tbody tr th:only-of-type {\n",
       "        vertical-align: middle;\n",
       "    }\n",
       "\n",
       "    .dataframe tbody tr th {\n",
       "        vertical-align: top;\n",
       "    }\n",
       "\n",
       "    .dataframe thead th {\n",
       "        text-align: right;\n",
       "    }\n",
       "</style>\n",
       "<table border=\"1\" class=\"dataframe\">\n",
       "  <thead>\n",
       "    <tr style=\"text-align: right;\">\n",
       "      <th></th>\n",
       "      <th>CountryCode</th>\n",
       "      <th>SeriesCode</th>\n",
       "      <th>DESCRIPTION</th>\n",
       "      <th>Unnamed: 3</th>\n",
       "    </tr>\n",
       "  </thead>\n",
       "  <tbody>\n",
       "  </tbody>\n",
       "</table>\n",
       "</div>"
      ],
      "text/plain": [
       "Empty DataFrame\n",
       "Columns: [CountryCode, SeriesCode, DESCRIPTION, Unnamed: 3]\n",
       "Index: []"
      ]
     },
     "execution_count": 14,
     "metadata": {},
     "output_type": "execute_result"
    }
   ],
   "source": [
    "# recheche de doublons sur la combinaison des colonnes 'CountryCode' et 'SeriesCode' comme indexe\n",
    "df_1[df_1.duplicated(['CountryCode', 'SeriesCode'])]"
   ]
  },
  {
   "cell_type": "markdown",
   "metadata": {},
   "source": [
    "Notre recherche de données dupliquées a retourné 0 ligne"
   ]
  },
  {
   "cell_type": "markdown",
   "metadata": {},
   "source": [
    "# 2 - 2 Fichier_csv_2 :"
   ]
  },
  {
   "cell_type": "code",
   "execution_count": 35,
   "metadata": {},
   "outputs": [
    {
     "data": {
      "text/plain": [
       "Country Code                                           0\n",
       "Short Name                                             0\n",
       "Table Name                                             0\n",
       "Long Name                                              0\n",
       "2-alpha code                                           3\n",
       "Currency Unit                                         26\n",
       "Special Notes                                         96\n",
       "Region                                                27\n",
       "Income Group                                          27\n",
       "WB-2 code                                              1\n",
       "National accounts base year                           36\n",
       "National accounts reference year                     209\n",
       "SNA price valuation                                   44\n",
       "Lending category                                      97\n",
       "Other groups                                         183\n",
       "System of National Accounts                           26\n",
       "Alternative conversion factor                        194\n",
       "PPP survey year                                       96\n",
       "Balance of Payments Manual in use                     60\n",
       "External debt Reporting status                       117\n",
       "System of trade                                       41\n",
       "Government Accounting concept                         80\n",
       "IMF data dissemination standard                       60\n",
       "Latest population census                              28\n",
       "Latest household survey                              100\n",
       "Source of most recent Income and expenditure data     81\n",
       "Vital registration complete                          130\n",
       "Latest agricultural census                            99\n",
       "Latest industrial data                               134\n",
       "Latest trade data                                     56\n",
       "Latest water withdrawal data                          62\n",
       "Unnamed: 31                                          241\n",
       "dtype: int64"
      ]
     },
     "execution_count": 35,
     "metadata": {},
     "output_type": "execute_result"
    }
   ],
   "source": [
    "#On fait le décompte de données manquantes par colonne\n",
    "df_2.isna().sum()"
   ]
  },
  {
   "cell_type": "code",
   "execution_count": 36,
   "metadata": {},
   "outputs": [
    {
     "data": {
      "text/html": [
       "<div>\n",
       "<style scoped>\n",
       "    .dataframe tbody tr th:only-of-type {\n",
       "        vertical-align: middle;\n",
       "    }\n",
       "\n",
       "    .dataframe tbody tr th {\n",
       "        vertical-align: top;\n",
       "    }\n",
       "\n",
       "    .dataframe thead th {\n",
       "        text-align: right;\n",
       "    }\n",
       "</style>\n",
       "<table border=\"1\" class=\"dataframe\">\n",
       "  <thead>\n",
       "    <tr style=\"text-align: right;\">\n",
       "      <th></th>\n",
       "      <th>Données manquantes en %</th>\n",
       "    </tr>\n",
       "  </thead>\n",
       "  <tbody>\n",
       "    <tr>\n",
       "      <th>Unnamed: 31</th>\n",
       "      <td>100.00</td>\n",
       "    </tr>\n",
       "    <tr>\n",
       "      <th>National accounts reference year</th>\n",
       "      <td>86.72</td>\n",
       "    </tr>\n",
       "    <tr>\n",
       "      <th>Alternative conversion factor</th>\n",
       "      <td>80.50</td>\n",
       "    </tr>\n",
       "    <tr>\n",
       "      <th>Other groups</th>\n",
       "      <td>75.93</td>\n",
       "    </tr>\n",
       "    <tr>\n",
       "      <th>Latest industrial data</th>\n",
       "      <td>55.60</td>\n",
       "    </tr>\n",
       "    <tr>\n",
       "      <th>Vital registration complete</th>\n",
       "      <td>53.94</td>\n",
       "    </tr>\n",
       "    <tr>\n",
       "      <th>External debt Reporting status</th>\n",
       "      <td>48.55</td>\n",
       "    </tr>\n",
       "    <tr>\n",
       "      <th>Latest household survey</th>\n",
       "      <td>41.49</td>\n",
       "    </tr>\n",
       "    <tr>\n",
       "      <th>Latest agricultural census</th>\n",
       "      <td>41.08</td>\n",
       "    </tr>\n",
       "    <tr>\n",
       "      <th>Lending category</th>\n",
       "      <td>40.25</td>\n",
       "    </tr>\n",
       "    <tr>\n",
       "      <th>PPP survey year</th>\n",
       "      <td>39.83</td>\n",
       "    </tr>\n",
       "    <tr>\n",
       "      <th>Special Notes</th>\n",
       "      <td>39.83</td>\n",
       "    </tr>\n",
       "    <tr>\n",
       "      <th>Source of most recent Income and expenditure data</th>\n",
       "      <td>33.61</td>\n",
       "    </tr>\n",
       "    <tr>\n",
       "      <th>Government Accounting concept</th>\n",
       "      <td>33.20</td>\n",
       "    </tr>\n",
       "    <tr>\n",
       "      <th>Latest water withdrawal data</th>\n",
       "      <td>25.73</td>\n",
       "    </tr>\n",
       "    <tr>\n",
       "      <th>IMF data dissemination standard</th>\n",
       "      <td>24.90</td>\n",
       "    </tr>\n",
       "    <tr>\n",
       "      <th>Balance of Payments Manual in use</th>\n",
       "      <td>24.90</td>\n",
       "    </tr>\n",
       "    <tr>\n",
       "      <th>Latest trade data</th>\n",
       "      <td>23.24</td>\n",
       "    </tr>\n",
       "    <tr>\n",
       "      <th>SNA price valuation</th>\n",
       "      <td>18.26</td>\n",
       "    </tr>\n",
       "    <tr>\n",
       "      <th>System of trade</th>\n",
       "      <td>17.01</td>\n",
       "    </tr>\n",
       "    <tr>\n",
       "      <th>National accounts base year</th>\n",
       "      <td>14.94</td>\n",
       "    </tr>\n",
       "    <tr>\n",
       "      <th>Latest population census</th>\n",
       "      <td>11.62</td>\n",
       "    </tr>\n",
       "    <tr>\n",
       "      <th>Region</th>\n",
       "      <td>11.20</td>\n",
       "    </tr>\n",
       "    <tr>\n",
       "      <th>Income Group</th>\n",
       "      <td>11.20</td>\n",
       "    </tr>\n",
       "    <tr>\n",
       "      <th>Currency Unit</th>\n",
       "      <td>10.79</td>\n",
       "    </tr>\n",
       "    <tr>\n",
       "      <th>System of National Accounts</th>\n",
       "      <td>10.79</td>\n",
       "    </tr>\n",
       "    <tr>\n",
       "      <th>2-alpha code</th>\n",
       "      <td>1.24</td>\n",
       "    </tr>\n",
       "    <tr>\n",
       "      <th>WB-2 code</th>\n",
       "      <td>0.41</td>\n",
       "    </tr>\n",
       "    <tr>\n",
       "      <th>Long Name</th>\n",
       "      <td>0.00</td>\n",
       "    </tr>\n",
       "    <tr>\n",
       "      <th>Short Name</th>\n",
       "      <td>0.00</td>\n",
       "    </tr>\n",
       "    <tr>\n",
       "      <th>Table Name</th>\n",
       "      <td>0.00</td>\n",
       "    </tr>\n",
       "    <tr>\n",
       "      <th>Country Code</th>\n",
       "      <td>0.00</td>\n",
       "    </tr>\n",
       "  </tbody>\n",
       "</table>\n",
       "</div>"
      ],
      "text/plain": [
       "                                                   Données manquantes en %\n",
       "Unnamed: 31                                                         100.00\n",
       "National accounts reference year                                     86.72\n",
       "Alternative conversion factor                                        80.50\n",
       "Other groups                                                         75.93\n",
       "Latest industrial data                                               55.60\n",
       "Vital registration complete                                          53.94\n",
       "External debt Reporting status                                       48.55\n",
       "Latest household survey                                              41.49\n",
       "Latest agricultural census                                           41.08\n",
       "Lending category                                                     40.25\n",
       "PPP survey year                                                      39.83\n",
       "Special Notes                                                        39.83\n",
       "Source of most recent Income and expenditure data                    33.61\n",
       "Government Accounting concept                                        33.20\n",
       "Latest water withdrawal data                                         25.73\n",
       "IMF data dissemination standard                                      24.90\n",
       "Balance of Payments Manual in use                                    24.90\n",
       "Latest trade data                                                    23.24\n",
       "SNA price valuation                                                  18.26\n",
       "System of trade                                                      17.01\n",
       "National accounts base year                                          14.94\n",
       "Latest population census                                             11.62\n",
       "Region                                                               11.20\n",
       "Income Group                                                         11.20\n",
       "Currency Unit                                                        10.79\n",
       "System of National Accounts                                          10.79\n",
       "2-alpha code                                                          1.24\n",
       "WB-2 code                                                             0.41\n",
       "Long Name                                                             0.00\n",
       "Short Name                                                            0.00\n",
       "Table Name                                                            0.00\n",
       "Country Code                                                          0.00"
      ]
     },
     "execution_count": 36,
     "metadata": {},
     "output_type": "execute_result"
    }
   ],
   "source": [
    "# On calcule le pourcentage de données manquante par colonne et on affiche dans l'ordre décroissante\n",
    "pd.DataFrame(df_2.isna().mean().round(4) * 100,\n",
    "             columns=['Données manquantes en %'\n",
    "                      ]).sort_values(by='Données manquantes en %',\n",
    "                                     ascending=False)"
   ]
  },
  {
   "cell_type": "markdown",
   "metadata": {},
   "source": [
    "# VISUALISATION DES DONNEES MANQUANTES PAR COLONNE"
   ]
  },
  {
   "cell_type": "code",
   "execution_count": 12,
   "metadata": {},
   "outputs": [
    {
     "data": {
      "text/plain": [
       "<AxesSubplot:>"
      ]
     },
     "execution_count": 12,
     "metadata": {},
     "output_type": "execute_result"
    },
    {
     "data": {
      "image/png": "[encoded data removed]",
      "text/plain": [
       "<Figure size 1080x576 with 2 Axes>"
      ]
     },
     "metadata": {
      "needs_background": "light"
     },
     "output_type": "display_data"
    }
   ],
   "source": [
    "# 1ere Méthode\n",
    "plt.figure(figsize=(15,8))\n",
    "sns.heatmap(df_2.isna())"
   ]
  },
  {
   "cell_type": "code",
   "execution_count": 37,
   "metadata": {},
   "outputs": [
    {
     "data": {
      "text/plain": [
       "<AxesSubplot:>"
      ]
     },
     "execution_count": 37,
     "metadata": {},
     "output_type": "execute_result"
    },
    {
     "data": {
      "image/png": "[encoded data removed]",
      "text/plain": [
       "<Figure size 1080x360 with 2 Axes>"
      ]
     },
     "metadata": {
      "needs_background": "light"
     },
     "output_type": "display_data"
    }
   ],
   "source": [
    "missingno.matrix(df_2,figsize=(15,5), fontsize=12)"
   ]
  },
  {
   "cell_type": "code",
   "execution_count": 13,
   "metadata": {},
   "outputs": [],
   "source": [
    "#df_2.plot.hist(figsize=(12,8))"
   ]
  },
  {
   "cell_type": "markdown",
   "metadata": {},
   "source": [
    "# 2 - 3 Fichier_csv_3 :"
   ]
  },
  {
   "cell_type": "code",
   "execution_count": 39,
   "metadata": {},
   "outputs": [
    {
     "data": {
      "text/html": [
       "<div>\n",
       "<style scoped>\n",
       "    .dataframe tbody tr th:only-of-type {\n",
       "        vertical-align: middle;\n",
       "    }\n",
       "\n",
       "    .dataframe tbody tr th {\n",
       "        vertical-align: top;\n",
       "    }\n",
       "\n",
       "    .dataframe thead th {\n",
       "        text-align: right;\n",
       "    }\n",
       "</style>\n",
       "<table border=\"1\" class=\"dataframe\">\n",
       "  <thead>\n",
       "    <tr style=\"text-align: right;\">\n",
       "      <th></th>\n",
       "      <th>Données manquantes en %</th>\n",
       "    </tr>\n",
       "  </thead>\n",
       "  <tbody>\n",
       "    <tr>\n",
       "      <th>Unnamed: 69</th>\n",
       "      <td>100.00</td>\n",
       "    </tr>\n",
       "    <tr>\n",
       "      <th>2017</th>\n",
       "      <td>99.98</td>\n",
       "    </tr>\n",
       "    <tr>\n",
       "      <th>2016</th>\n",
       "      <td>98.14</td>\n",
       "    </tr>\n",
       "    <tr>\n",
       "      <th>1971</th>\n",
       "      <td>95.99</td>\n",
       "    </tr>\n",
       "    <tr>\n",
       "      <th>1973</th>\n",
       "      <td>95.99</td>\n",
       "    </tr>\n",
       "    <tr>\n",
       "      <th>...</th>\n",
       "      <td>...</td>\n",
       "    </tr>\n",
       "    <tr>\n",
       "      <th>2010</th>\n",
       "      <td>72.67</td>\n",
       "    </tr>\n",
       "    <tr>\n",
       "      <th>Country Code</th>\n",
       "      <td>0.00</td>\n",
       "    </tr>\n",
       "    <tr>\n",
       "      <th>Indicator Code</th>\n",
       "      <td>0.00</td>\n",
       "    </tr>\n",
       "    <tr>\n",
       "      <th>Indicator Name</th>\n",
       "      <td>0.00</td>\n",
       "    </tr>\n",
       "    <tr>\n",
       "      <th>Country Name</th>\n",
       "      <td>0.00</td>\n",
       "    </tr>\n",
       "  </tbody>\n",
       "</table>\n",
       "<p>70 rows × 1 columns</p>\n",
       "</div>"
      ],
      "text/plain": [
       "                Données manquantes en %\n",
       "Unnamed: 69                      100.00\n",
       "2017                              99.98\n",
       "2016                              98.14\n",
       "1971                              95.99\n",
       "1973                              95.99\n",
       "...                                 ...\n",
       "2010                              72.67\n",
       "Country Code                       0.00\n",
       "Indicator Code                     0.00\n",
       "Indicator Name                     0.00\n",
       "Country Name                       0.00\n",
       "\n",
       "[70 rows x 1 columns]"
      ]
     },
     "execution_count": 39,
     "metadata": {},
     "output_type": "execute_result"
    }
   ],
   "source": [
    "pd.DataFrame(df_3.isna().mean().round(4) * 100,\n",
    "             columns=['Données manquantes en %'\n",
    "                      ]).sort_values(by='Données manquantes en %',\n",
    "                                     ascending=False)"
   ]
  },
  {
   "cell_type": "code",
   "execution_count": 109,
   "metadata": {},
   "outputs": [
    {
     "data": {
      "text/plain": [
       "(886930, 70)"
      ]
     },
     "execution_count": 109,
     "metadata": {},
     "output_type": "execute_result"
    }
   ],
   "source": [
    "df_3.shape"
   ]
  },
  {
   "cell_type": "raw",
   "metadata": {},
   "source": [
    "J'ai choisi de ne pas visualiser graphiquement les données manquantes\n",
    "parce que ce df est assez volumineux : 886930 lignes et 70 colonnes :( \n",
    "ça risque d'exploser ma RAM"
   ]
  },
  {
   "cell_type": "code",
   "execution_count": null,
   "metadata": {},
   "outputs": [],
   "source": [
    "#plt.figure(figsize=(15,8))\n",
    "#sns.heatmap(df_3.isna())"
   ]
  },
  {
   "cell_type": "code",
   "execution_count": null,
   "metadata": {},
   "outputs": [],
   "source": [
    "#missingno.matrix(df_3, figsize=(15,5), fontsize=12)"
   ]
  },
  {
   "cell_type": "markdown",
   "metadata": {},
   "source": [
    "# 2 - 4 Fichier_csv_4 :"
   ]
  },
  {
   "cell_type": "code",
   "execution_count": 22,
   "metadata": {},
   "outputs": [
    {
     "data": {
      "text/plain": [
       "CountryCode         0\n",
       "SeriesCode          0\n",
       "Year                0\n",
       "DESCRIPTION         0\n",
       "Unnamed: 4     643638\n",
       "dtype: int64"
      ]
     },
     "execution_count": 22,
     "metadata": {},
     "output_type": "execute_result"
    }
   ],
   "source": [
    "df_4.isna().sum()"
   ]
  },
  {
   "cell_type": "code",
   "execution_count": 23,
   "metadata": {},
   "outputs": [
    {
     "data": {
      "text/html": [
       "<div>\n",
       "<style scoped>\n",
       "    .dataframe tbody tr th:only-of-type {\n",
       "        vertical-align: middle;\n",
       "    }\n",
       "\n",
       "    .dataframe tbody tr th {\n",
       "        vertical-align: top;\n",
       "    }\n",
       "\n",
       "    .dataframe thead th {\n",
       "        text-align: right;\n",
       "    }\n",
       "</style>\n",
       "<table border=\"1\" class=\"dataframe\">\n",
       "  <thead>\n",
       "    <tr style=\"text-align: right;\">\n",
       "      <th></th>\n",
       "      <th>Données manquantes en %</th>\n",
       "    </tr>\n",
       "  </thead>\n",
       "  <tbody>\n",
       "    <tr>\n",
       "      <th>Unnamed: 4</th>\n",
       "      <td>100.0</td>\n",
       "    </tr>\n",
       "    <tr>\n",
       "      <th>CountryCode</th>\n",
       "      <td>0.0</td>\n",
       "    </tr>\n",
       "    <tr>\n",
       "      <th>SeriesCode</th>\n",
       "      <td>0.0</td>\n",
       "    </tr>\n",
       "    <tr>\n",
       "      <th>Year</th>\n",
       "      <td>0.0</td>\n",
       "    </tr>\n",
       "    <tr>\n",
       "      <th>DESCRIPTION</th>\n",
       "      <td>0.0</td>\n",
       "    </tr>\n",
       "  </tbody>\n",
       "</table>\n",
       "</div>"
      ],
      "text/plain": [
       "             Données manquantes en %\n",
       "Unnamed: 4                     100.0\n",
       "CountryCode                      0.0\n",
       "SeriesCode                       0.0\n",
       "Year                             0.0\n",
       "DESCRIPTION                      0.0"
      ]
     },
     "execution_count": 23,
     "metadata": {},
     "output_type": "execute_result"
    }
   ],
   "source": [
    "pd.DataFrame(df_4.isna().mean()*100,\n",
    "            columns=['Données manquantes en %'\n",
    "                      ]).sort_values(by='Données manquantes en %',\n",
    "                                     ascending=False)"
   ]
  },
  {
   "cell_type": "code",
   "execution_count": 25,
   "metadata": {},
   "outputs": [
    {
     "data": {
      "text/plain": [
       "<AxesSubplot:>"
      ]
     },
     "execution_count": 25,
     "metadata": {},
     "output_type": "execute_result"
    },
    {
     "data": {
      "image/png": "[encoded data removed]",
      "text/plain": [
       "<Figure size 432x288 with 2 Axes>"
      ]
     },
     "metadata": {
      "needs_background": "light"
     },
     "output_type": "display_data"
    }
   ],
   "source": [
    "sns.heatmap(df_4.isna())"
   ]
  },
  {
   "cell_type": "code",
   "execution_count": 14,
   "metadata": {},
   "outputs": [],
   "source": [
    "#missingno.matrix(df_4, figsize=(10,5), fontsize=10)"
   ]
  },
  {
   "cell_type": "markdown",
   "metadata": {},
   "source": [
    "# 2 - 5 Fichier_csv_5 :"
   ]
  },
  {
   "cell_type": "code",
   "execution_count": 35,
   "metadata": {},
   "outputs": [
    {
     "data": {
      "text/plain": [
       "Series Code                               0\n",
       "Topic                                     0\n",
       "Indicator Name                            0\n",
       "Short definition                       1509\n",
       "Long definition                           0\n",
       "Unit of measure                        3665\n",
       "Periodicity                            3566\n",
       "Base Period                            3351\n",
       "Other notes                            3113\n",
       "Aggregation method                     3618\n",
       "Limitations and exceptions             3651\n",
       "Notes from original source             3665\n",
       "General comments                       3651\n",
       "Source                                    0\n",
       "Statistical concept and methodology    3642\n",
       "Development relevance                  3662\n",
       "Related source links                   3450\n",
       "Other web links                        3665\n",
       "Related indicators                     3665\n",
       "License Type                           3665\n",
       "Unnamed: 20                            3665\n",
       "dtype: int64"
      ]
     },
     "execution_count": 35,
     "metadata": {},
     "output_type": "execute_result"
    }
   ],
   "source": [
    "df_5.isna().sum()"
   ]
  },
  {
   "cell_type": "code",
   "execution_count": 41,
   "metadata": {},
   "outputs": [
    {
     "data": {
      "text/html": [
       "<div>\n",
       "<style scoped>\n",
       "    .dataframe tbody tr th:only-of-type {\n",
       "        vertical-align: middle;\n",
       "    }\n",
       "\n",
       "    .dataframe tbody tr th {\n",
       "        vertical-align: top;\n",
       "    }\n",
       "\n",
       "    .dataframe thead th {\n",
       "        text-align: right;\n",
       "    }\n",
       "</style>\n",
       "<table border=\"1\" class=\"dataframe\">\n",
       "  <thead>\n",
       "    <tr style=\"text-align: right;\">\n",
       "      <th></th>\n",
       "      <th>Données manquantes en %</th>\n",
       "    </tr>\n",
       "  </thead>\n",
       "  <tbody>\n",
       "    <tr>\n",
       "      <th>Limitations and exceptions</th>\n",
       "      <td>100.0</td>\n",
       "    </tr>\n",
       "    <tr>\n",
       "      <th>Notes from original source</th>\n",
       "      <td>100.0</td>\n",
       "    </tr>\n",
       "    <tr>\n",
       "      <th>License Type</th>\n",
       "      <td>100.0</td>\n",
       "    </tr>\n",
       "    <tr>\n",
       "      <th>Related indicators</th>\n",
       "      <td>100.0</td>\n",
       "    </tr>\n",
       "    <tr>\n",
       "      <th>Other web links</th>\n",
       "      <td>100.0</td>\n",
       "    </tr>\n",
       "    <tr>\n",
       "      <th>Development relevance</th>\n",
       "      <td>100.0</td>\n",
       "    </tr>\n",
       "    <tr>\n",
       "      <th>General comments</th>\n",
       "      <td>100.0</td>\n",
       "    </tr>\n",
       "    <tr>\n",
       "      <th>Unnamed: 20</th>\n",
       "      <td>100.0</td>\n",
       "    </tr>\n",
       "    <tr>\n",
       "      <th>Unit of measure</th>\n",
       "      <td>100.0</td>\n",
       "    </tr>\n",
       "    <tr>\n",
       "      <th>Aggregation method</th>\n",
       "      <td>99.0</td>\n",
       "    </tr>\n",
       "    <tr>\n",
       "      <th>Statistical concept and methodology</th>\n",
       "      <td>99.0</td>\n",
       "    </tr>\n",
       "    <tr>\n",
       "      <th>Periodicity</th>\n",
       "      <td>97.0</td>\n",
       "    </tr>\n",
       "    <tr>\n",
       "      <th>Related source links</th>\n",
       "      <td>94.0</td>\n",
       "    </tr>\n",
       "    <tr>\n",
       "      <th>Base Period</th>\n",
       "      <td>91.0</td>\n",
       "    </tr>\n",
       "    <tr>\n",
       "      <th>Other notes</th>\n",
       "      <td>85.0</td>\n",
       "    </tr>\n",
       "    <tr>\n",
       "      <th>Short definition</th>\n",
       "      <td>41.0</td>\n",
       "    </tr>\n",
       "    <tr>\n",
       "      <th>Topic</th>\n",
       "      <td>0.0</td>\n",
       "    </tr>\n",
       "    <tr>\n",
       "      <th>Source</th>\n",
       "      <td>0.0</td>\n",
       "    </tr>\n",
       "    <tr>\n",
       "      <th>Long definition</th>\n",
       "      <td>0.0</td>\n",
       "    </tr>\n",
       "    <tr>\n",
       "      <th>Indicator Name</th>\n",
       "      <td>0.0</td>\n",
       "    </tr>\n",
       "    <tr>\n",
       "      <th>Series Code</th>\n",
       "      <td>0.0</td>\n",
       "    </tr>\n",
       "  </tbody>\n",
       "</table>\n",
       "</div>"
      ],
      "text/plain": [
       "                                     Données manquantes en %\n",
       "Limitations and exceptions                             100.0\n",
       "Notes from original source                             100.0\n",
       "License Type                                           100.0\n",
       "Related indicators                                     100.0\n",
       "Other web links                                        100.0\n",
       "Development relevance                                  100.0\n",
       "General comments                                       100.0\n",
       "Unnamed: 20                                            100.0\n",
       "Unit of measure                                        100.0\n",
       "Aggregation method                                      99.0\n",
       "Statistical concept and methodology                     99.0\n",
       "Periodicity                                             97.0\n",
       "Related source links                                    94.0\n",
       "Base Period                                             91.0\n",
       "Other notes                                             85.0\n",
       "Short definition                                        41.0\n",
       "Topic                                                    0.0\n",
       "Source                                                   0.0\n",
       "Long definition                                          0.0\n",
       "Indicator Name                                           0.0\n",
       "Series Code                                              0.0"
      ]
     },
     "execution_count": 41,
     "metadata": {},
     "output_type": "execute_result"
    }
   ],
   "source": [
    "pd.DataFrame(df_5.isna().mean().round(2)*100,\n",
    "            columns=[\"Données manquantes en %\"\n",
    "                    ]).sort_values(by='Données manquantes en %',\n",
    "                                     ascending=False)"
   ]
  },
  {
   "cell_type": "code",
   "execution_count": 34,
   "metadata": {},
   "outputs": [
    {
     "data": {
      "text/plain": [
       "<AxesSubplot:>"
      ]
     },
     "execution_count": 34,
     "metadata": {},
     "output_type": "execute_result"
    },
    {
     "data": {
      "image/png": "[encoded data removed]",
      "text/plain": [
       "<Figure size 1080x576 with 2 Axes>"
      ]
     },
     "metadata": {
      "needs_background": "light"
     },
     "output_type": "display_data"
    }
   ],
   "source": [
    "plt.figure(figsize=(15,8))\n",
    "sns.heatmap(df_5.isna())"
   ]
  },
  {
   "cell_type": "code",
   "execution_count": 15,
   "metadata": {},
   "outputs": [],
   "source": [
    "#missingno.matrix(df_5, figsize=(15,5), fontsize=12)"
   ]
  },
  {
   "cell_type": "markdown",
   "metadata": {},
   "source": [
    "# 3 - Sélectionner les informations qui semblent pertinentes pour répondre à la problématique (quelles sont les colonnes contenant des informations qui peuvent être utiles pour répondre à la problématique de l’entreprise ?)"
   ]
  },
  {
   "cell_type": "markdown",
   "metadata": {},
   "source": [
    "ce que j'ai retenu comme informations me paraissant pertinentes pour"
   ]
  },
  {
   "cell_type": "markdown",
   "metadata": {},
   "source": [
    "- cibler les pays avec un fort potentiel de clients"
   ]
  },
  {
   "cell_type": "markdown",
   "metadata": {},
   "source": [
    "- l’évolution de ce potentiel de clients pour chaque pays"
   ]
  },
  {
   "cell_type": "markdown",
   "metadata": {},
   "source": [
    "- le pays dans lequel l'entreprise doit opérer en priorité"
   ]
  },
  {
   "cell_type": "markdown",
   "metadata": {},
   "source": [
    "SONT :"
   ]
  },
  {
   "cell_type": "markdown",
   "metadata": {},
   "source": [
    "1 - Utilisation de la connexion internet ==> (colonne 'Indicator Code' == 'IT.NET.USER.P2' dans le fichier_csv_3)"
   ]
  },
  {
   "cell_type": "markdown",
   "metadata": {},
   "source": [
    "2 - un certain taux de niveau scolaire de personnes agées plus de 25 ans (parce que d'habitude quand on a - 25ans on va à lécole ou à l'université ..., pour balayer aussi les personnes instruites voulant faire une reconversion professionnelle)"
   ]
  },
  {
   "cell_type": "markdown",
   "metadata": {},
   "source": [
    "2 - 1 - ==> (colonne 'Indicator Code' == 'BAR.TER.CMPT.25UP.ZS' # taux etude tertiare complete de personnes agées de 25 ans et +)"
   ]
  },
  {
   "cell_type": "markdown",
   "metadata": {},
   "source": [
    "2 - 2 - ==> (colonne 'Indicator Code' == 'BAR.SEC.CMPT.25UP.ZS' # taux etude secondaire complete de personnes agées de 25 ans et +)"
   ]
  },
  {
   "cell_type": "markdown",
   "metadata": {},
   "source": [
    "3 - un certain niveau de développement du pays ('income group' dans le fichier csv_2)"
   ]
  },
  {
   "cell_type": "markdown",
   "metadata": {},
   "source": [
    "4 - Les dépenses du pays en question dans l'enseignement (colonne 'Indicator Code' == 'SE.XPD.TOTL.GB.ZS' dans fichier_csv_3)"
   ]
  },
  {
   "cell_type": "code",
   "execution_count": null,
   "metadata": {},
   "outputs": [],
   "source": []
  },
  {
   "cell_type": "markdown",
   "metadata": {},
   "source": [
    "# 3 - 1 Fichier_csv_1 :"
   ]
  },
  {
   "cell_type": "code",
   "execution_count": 42,
   "metadata": {},
   "outputs": [
    {
     "data": {
      "text/plain": [
       "Index(['CountryCode', 'SeriesCode', 'DESCRIPTION', 'Unnamed: 3'], dtype='object')"
      ]
     },
     "execution_count": 42,
     "metadata": {},
     "output_type": "execute_result"
    }
   ],
   "source": [
    "df_1.columns"
   ]
  },
  {
   "cell_type": "markdown",
   "metadata": {},
   "source": [
    "Dans le fichier csv 1 ('EdStatsCountry-Series.csv'), qui se trouve être notre premier dataset, on a certes des information nous permettant de comprendre nos données mais on y pas trouve de valeur qu'on peut se permettre se selectionner pour la résolution notre problématique"
   ]
  },
  {
   "cell_type": "markdown",
   "metadata": {},
   "source": [
    "# 3 - 2 Fichier_csv_2 :"
   ]
  },
  {
   "cell_type": "code",
   "execution_count": 43,
   "metadata": {},
   "outputs": [
    {
     "data": {
      "text/plain": [
       "Index(['Country Code', 'Short Name', 'Table Name', 'Long Name', '2-alpha code',\n",
       "       'Currency Unit', 'Special Notes', 'Region', 'Income Group', 'WB-2 code',\n",
       "       'National accounts base year', 'National accounts reference year',\n",
       "       'SNA price valuation', 'Lending category', 'Other groups',\n",
       "       'System of National Accounts', 'Alternative conversion factor',\n",
       "       'PPP survey year', 'Balance of Payments Manual in use',\n",
       "       'External debt Reporting status', 'System of trade',\n",
       "       'Government Accounting concept', 'IMF data dissemination standard',\n",
       "       'Latest population census', 'Latest household survey',\n",
       "       'Source of most recent Income and expenditure data',\n",
       "       'Vital registration complete', 'Latest agricultural census',\n",
       "       'Latest industrial data', 'Latest trade data',\n",
       "       'Latest water withdrawal data', 'Unnamed: 31'],\n",
       "      dtype='object')"
      ]
     },
     "execution_count": 43,
     "metadata": {},
     "output_type": "execute_result"
    }
   ],
   "source": [
    "df_2.columns"
   ]
  },
  {
   "cell_type": "markdown",
   "metadata": {},
   "source": [
    "Par contre dans notre deuxième dataset (le fichier csv 'EdStatsCountry.csv'), on y trouve des noms de colonne, qui à mon sens, nous aideront dans notre démarche. Cette selection est suivante :"
   ]
  },
  {
   "cell_type": "code",
   "execution_count": 120,
   "metadata": {},
   "outputs": [
    {
     "data": {
      "text/html": [
       "<div>\n",
       "<style scoped>\n",
       "    .dataframe tbody tr th:only-of-type {\n",
       "        vertical-align: middle;\n",
       "    }\n",
       "\n",
       "    .dataframe tbody tr th {\n",
       "        vertical-align: top;\n",
       "    }\n",
       "\n",
       "    .dataframe thead th {\n",
       "        text-align: right;\n",
       "    }\n",
       "</style>\n",
       "<table border=\"1\" class=\"dataframe\">\n",
       "  <thead>\n",
       "    <tr style=\"text-align: right;\">\n",
       "      <th></th>\n",
       "      <th>Country Code</th>\n",
       "      <th>Income Group</th>\n",
       "    </tr>\n",
       "  </thead>\n",
       "  <tbody>\n",
       "    <tr>\n",
       "      <th>0</th>\n",
       "      <td>ABW</td>\n",
       "      <td>High income: nonOECD</td>\n",
       "    </tr>\n",
       "    <tr>\n",
       "      <th>1</th>\n",
       "      <td>AFG</td>\n",
       "      <td>Low income</td>\n",
       "    </tr>\n",
       "    <tr>\n",
       "      <th>2</th>\n",
       "      <td>AGO</td>\n",
       "      <td>Upper middle income</td>\n",
       "    </tr>\n",
       "    <tr>\n",
       "      <th>3</th>\n",
       "      <td>ALB</td>\n",
       "      <td>Upper middle income</td>\n",
       "    </tr>\n",
       "    <tr>\n",
       "      <th>4</th>\n",
       "      <td>AND</td>\n",
       "      <td>High income: nonOECD</td>\n",
       "    </tr>\n",
       "  </tbody>\n",
       "</table>\n",
       "</div>"
      ],
      "text/plain": [
       "  Country Code          Income Group\n",
       "0          ABW  High income: nonOECD\n",
       "1          AFG            Low income\n",
       "2          AGO   Upper middle income\n",
       "3          ALB   Upper middle income\n",
       "4          AND  High income: nonOECD"
      ]
     },
     "execution_count": 120,
     "metadata": {},
     "output_type": "execute_result"
    }
   ],
   "source": [
    "df_2[['Country Code', 'Income Group']].head()"
   ]
  },
  {
   "cell_type": "code",
   "execution_count": 6,
   "metadata": {},
   "outputs": [],
   "source": [
    "df_2 = df_2[['Country Code', 'Income Group']]"
   ]
  },
  {
   "cell_type": "code",
   "execution_count": 123,
   "metadata": {},
   "outputs": [
    {
     "data": {
      "text/plain": [
       "(241, 2)"
      ]
     },
     "execution_count": 123,
     "metadata": {},
     "output_type": "execute_result"
    }
   ],
   "source": [
    "df_2.shape"
   ]
  },
  {
   "cell_type": "code",
   "execution_count": 6,
   "metadata": {},
   "outputs": [
    {
     "data": {
      "text/plain": [
       "array(['High income: nonOECD', 'Low income', 'Upper middle income', nan,\n",
       "       'Lower middle income', 'High income: OECD'], dtype=object)"
      ]
     },
     "execution_count": 6,
     "metadata": {},
     "output_type": "execute_result"
    }
   ],
   "source": [
    "df_2['Income Group'].unique()"
   ]
  },
  {
   "cell_type": "code",
   "execution_count": 129,
   "metadata": {},
   "outputs": [
    {
     "data": {
      "text/plain": [
       "Country Code     0\n",
       "Income Group    27\n",
       "dtype: int64"
      ]
     },
     "execution_count": 129,
     "metadata": {},
     "output_type": "execute_result"
    }
   ],
   "source": [
    "df_2.isna().sum()"
   ]
  },
  {
   "cell_type": "code",
   "execution_count": null,
   "metadata": {},
   "outputs": [],
   "source": []
  },
  {
   "cell_type": "markdown",
   "metadata": {},
   "source": [
    "# 3 - 3 Fichier_csv_3 :"
   ]
  },
  {
   "cell_type": "markdown",
   "metadata": {},
   "source": [
    "Dans le df_3 on sélectionne les données jugées utiles dans notre démarche"
   ]
  },
  {
   "cell_type": "markdown",
   "metadata": {},
   "source": [
    "On va utiliser une hiérarchisation d'indexe de notre DataFrame afin simplifier les manipulations qui vont suivre (difficile à croire ... mais on verra)"
   ]
  },
  {
   "cell_type": "code",
   "execution_count": 7,
   "metadata": {},
   "outputs": [
    {
     "data": {
      "text/plain": [
       "(968, 71)"
      ]
     },
     "execution_count": 7,
     "metadata": {},
     "output_type": "execute_result"
    }
   ],
   "source": [
    "df_filtre = pd.concat([\n",
    "            df_3[df_3['Indicator Code'] == 'IT.NET.USER.P2'].reset_index(),\n",
    "           \n",
    "            df_3[df_3['Indicator Code'] == 'SE.XPD.TOTL.GB.ZS'].reset_index(), # % dépense du gouv dans l'éduc sur dép tot\n",
    "                \n",
    "            df_3[df_3['Indicator Code'] == 'BAR.SEC.CMPT.25UP.ZS'].reset_index(), # etude secondaire complete 25 ans et +\n",
    "            df_3[df_3['Indicator Code'] == 'BAR.TER.CMPT.25UP.ZS'].reset_index() # etude tertiare complete 25 ans et +\n",
    "            ], \n",
    "        \n",
    "    keys = ['internet', 'dep_gouv_educ', 'taux_etud_sec_comp', 'taux_etud_ter_comp']\n",
    "        )\n",
    "\n",
    "df_filtre.shape\n"
   ]
  },
  {
   "cell_type": "code",
   "execution_count": null,
   "metadata": {},
   "outputs": [],
   "source": []
  },
  {
   "cell_type": "code",
   "execution_count": 516,
   "metadata": {},
   "outputs": [
    {
     "data": {
      "text/plain": [
       "Index(['index', 'Country Name', 'Country Code', 'Indicator Name',\n",
       "       'Indicator Code', '1970', '1971', '1972', '1973', '1974', '1975',\n",
       "       '1976', '1977', '1978', '1979', '1980', '1981', '1982', '1983', '1984',\n",
       "       '1985', '1986', '1987', '1988', '1989', '1990', '1991', '1992', '1993',\n",
       "       '1994', '1995', '1996', '1997', '1998', '1999', '2000', '2001', '2002',\n",
       "       '2003', '2004', '2005', '2006', '2007', '2008', '2009', '2010', '2011',\n",
       "       '2012', '2013', '2014', '2015', '2016', '2017', '2020', '2025', '2030',\n",
       "       '2035', '2040', '2045', '2050', '2055', '2060', '2065', '2070', '2075',\n",
       "       '2080', '2085', '2090', '2095', '2100', 'Unnamed: 69'],\n",
       "      dtype='object')"
      ]
     },
     "execution_count": 516,
     "metadata": {},
     "output_type": "execute_result"
    }
   ],
   "source": [
    "df_filtre.columns"
   ]
  },
  {
   "cell_type": "code",
   "execution_count": 8,
   "metadata": {},
   "outputs": [],
   "source": [
    "del df_filtre['index']"
   ]
  },
  {
   "cell_type": "code",
   "execution_count": 319,
   "metadata": {},
   "outputs": [
    {
     "data": {
      "text/html": [
       "<div>\n",
       "<style scoped>\n",
       "    .dataframe tbody tr th:only-of-type {\n",
       "        vertical-align: middle;\n",
       "    }\n",
       "\n",
       "    .dataframe tbody tr th {\n",
       "        vertical-align: top;\n",
       "    }\n",
       "\n",
       "    .dataframe thead th {\n",
       "        text-align: right;\n",
       "    }\n",
       "</style>\n",
       "<table border=\"1\" class=\"dataframe\">\n",
       "  <thead>\n",
       "    <tr style=\"text-align: right;\">\n",
       "      <th></th>\n",
       "      <th></th>\n",
       "      <th>Country Name</th>\n",
       "      <th>Country Code</th>\n",
       "      <th>Indicator Name</th>\n",
       "      <th>Indicator Code</th>\n",
       "      <th>1970</th>\n",
       "      <th>1971</th>\n",
       "      <th>1972</th>\n",
       "      <th>1973</th>\n",
       "      <th>1974</th>\n",
       "      <th>1975</th>\n",
       "      <th>...</th>\n",
       "      <th>2060</th>\n",
       "      <th>2065</th>\n",
       "      <th>2070</th>\n",
       "      <th>2075</th>\n",
       "      <th>2080</th>\n",
       "      <th>2085</th>\n",
       "      <th>2090</th>\n",
       "      <th>2095</th>\n",
       "      <th>2100</th>\n",
       "      <th>Unnamed: 69</th>\n",
       "    </tr>\n",
       "  </thead>\n",
       "  <tbody>\n",
       "    <tr>\n",
       "      <th rowspan=\"3\" valign=\"top\">internet</th>\n",
       "      <th>0</th>\n",
       "      <td>Arab World</td>\n",
       "      <td>ARB</td>\n",
       "      <td>Internet users (per 100 people)</td>\n",
       "      <td>IT.NET.USER.P2</td>\n",
       "      <td>NaN</td>\n",
       "      <td>NaN</td>\n",
       "      <td>NaN</td>\n",
       "      <td>NaN</td>\n",
       "      <td>NaN</td>\n",
       "      <td>NaN</td>\n",
       "      <td>...</td>\n",
       "      <td>NaN</td>\n",
       "      <td>NaN</td>\n",
       "      <td>NaN</td>\n",
       "      <td>NaN</td>\n",
       "      <td>NaN</td>\n",
       "      <td>NaN</td>\n",
       "      <td>NaN</td>\n",
       "      <td>NaN</td>\n",
       "      <td>NaN</td>\n",
       "      <td>NaN</td>\n",
       "    </tr>\n",
       "    <tr>\n",
       "      <th>1</th>\n",
       "      <td>East Asia &amp; Pacific</td>\n",
       "      <td>EAS</td>\n",
       "      <td>Internet users (per 100 people)</td>\n",
       "      <td>IT.NET.USER.P2</td>\n",
       "      <td>NaN</td>\n",
       "      <td>NaN</td>\n",
       "      <td>NaN</td>\n",
       "      <td>NaN</td>\n",
       "      <td>NaN</td>\n",
       "      <td>NaN</td>\n",
       "      <td>...</td>\n",
       "      <td>NaN</td>\n",
       "      <td>NaN</td>\n",
       "      <td>NaN</td>\n",
       "      <td>NaN</td>\n",
       "      <td>NaN</td>\n",
       "      <td>NaN</td>\n",
       "      <td>NaN</td>\n",
       "      <td>NaN</td>\n",
       "      <td>NaN</td>\n",
       "      <td>NaN</td>\n",
       "    </tr>\n",
       "    <tr>\n",
       "      <th>2</th>\n",
       "      <td>East Asia &amp; Pacific (excluding high income)</td>\n",
       "      <td>EAP</td>\n",
       "      <td>Internet users (per 100 people)</td>\n",
       "      <td>IT.NET.USER.P2</td>\n",
       "      <td>NaN</td>\n",
       "      <td>NaN</td>\n",
       "      <td>NaN</td>\n",
       "      <td>NaN</td>\n",
       "      <td>NaN</td>\n",
       "      <td>NaN</td>\n",
       "      <td>...</td>\n",
       "      <td>NaN</td>\n",
       "      <td>NaN</td>\n",
       "      <td>NaN</td>\n",
       "      <td>NaN</td>\n",
       "      <td>NaN</td>\n",
       "      <td>NaN</td>\n",
       "      <td>NaN</td>\n",
       "      <td>NaN</td>\n",
       "      <td>NaN</td>\n",
       "      <td>NaN</td>\n",
       "    </tr>\n",
       "  </tbody>\n",
       "</table>\n",
       "<p>3 rows × 70 columns</p>\n",
       "</div>"
      ],
      "text/plain": [
       "                                           Country Name Country Code  \\\n",
       "internet 0                                   Arab World          ARB   \n",
       "         1                          East Asia & Pacific          EAS   \n",
       "         2  East Asia & Pacific (excluding high income)          EAP   \n",
       "\n",
       "                             Indicator Name  Indicator Code  1970  1971  1972  \\\n",
       "internet 0  Internet users (per 100 people)  IT.NET.USER.P2   NaN   NaN   NaN   \n",
       "         1  Internet users (per 100 people)  IT.NET.USER.P2   NaN   NaN   NaN   \n",
       "         2  Internet users (per 100 people)  IT.NET.USER.P2   NaN   NaN   NaN   \n",
       "\n",
       "            1973  1974  1975  ...  2060  2065  2070  2075  2080  2085  2090  \\\n",
       "internet 0   NaN   NaN   NaN  ...   NaN   NaN   NaN   NaN   NaN   NaN   NaN   \n",
       "         1   NaN   NaN   NaN  ...   NaN   NaN   NaN   NaN   NaN   NaN   NaN   \n",
       "         2   NaN   NaN   NaN  ...   NaN   NaN   NaN   NaN   NaN   NaN   NaN   \n",
       "\n",
       "            2095  2100  Unnamed: 69  \n",
       "internet 0   NaN   NaN          NaN  \n",
       "         1   NaN   NaN          NaN  \n",
       "         2   NaN   NaN          NaN  \n",
       "\n",
       "[3 rows x 70 columns]"
      ]
     },
     "execution_count": 319,
     "metadata": {},
     "output_type": "execute_result"
    }
   ],
   "source": [
    "df_filtre.head(3)"
   ]
  },
  {
   "cell_type": "code",
   "execution_count": 320,
   "metadata": {},
   "outputs": [
    {
     "data": {
      "text/plain": [
       "Country Name        0\n",
       "Country Code        0\n",
       "Indicator Name      0\n",
       "Indicator Code      0\n",
       "1970              673\n",
       "                 ... \n",
       "2085              968\n",
       "2090              968\n",
       "2095              968\n",
       "2100              968\n",
       "Unnamed: 69       968\n",
       "Length: 70, dtype: int64"
      ]
     },
     "execution_count": 320,
     "metadata": {},
     "output_type": "execute_result"
    }
   ],
   "source": [
    "df_filtre.isna().sum()"
   ]
  },
  {
   "cell_type": "code",
   "execution_count": 321,
   "metadata": {
    "scrolled": true
   },
   "outputs": [
    {
     "data": {
      "text/html": [
       "<div>\n",
       "<style scoped>\n",
       "    .dataframe tbody tr th:only-of-type {\n",
       "        vertical-align: middle;\n",
       "    }\n",
       "\n",
       "    .dataframe tbody tr th {\n",
       "        vertical-align: top;\n",
       "    }\n",
       "\n",
       "    .dataframe thead th {\n",
       "        text-align: right;\n",
       "    }\n",
       "</style>\n",
       "<table border=\"1\" class=\"dataframe\">\n",
       "  <thead>\n",
       "    <tr style=\"text-align: right;\">\n",
       "      <th></th>\n",
       "      <th>Données manquantes en %</th>\n",
       "    </tr>\n",
       "  </thead>\n",
       "  <tbody>\n",
       "    <tr>\n",
       "      <th>Unnamed: 69</th>\n",
       "      <td>100.0</td>\n",
       "    </tr>\n",
       "    <tr>\n",
       "      <th>2025</th>\n",
       "      <td>100.0</td>\n",
       "    </tr>\n",
       "    <tr>\n",
       "      <th>2070</th>\n",
       "      <td>100.0</td>\n",
       "    </tr>\n",
       "    <tr>\n",
       "      <th>2065</th>\n",
       "      <td>100.0</td>\n",
       "    </tr>\n",
       "    <tr>\n",
       "      <th>2060</th>\n",
       "      <td>100.0</td>\n",
       "    </tr>\n",
       "    <tr>\n",
       "      <th>...</th>\n",
       "      <td>...</td>\n",
       "    </tr>\n",
       "    <tr>\n",
       "      <th>2010</th>\n",
       "      <td>34.0</td>\n",
       "    </tr>\n",
       "    <tr>\n",
       "      <th>Country Code</th>\n",
       "      <td>0.0</td>\n",
       "    </tr>\n",
       "    <tr>\n",
       "      <th>Indicator Code</th>\n",
       "      <td>0.0</td>\n",
       "    </tr>\n",
       "    <tr>\n",
       "      <th>Indicator Name</th>\n",
       "      <td>0.0</td>\n",
       "    </tr>\n",
       "    <tr>\n",
       "      <th>Country Name</th>\n",
       "      <td>0.0</td>\n",
       "    </tr>\n",
       "  </tbody>\n",
       "</table>\n",
       "<p>70 rows × 1 columns</p>\n",
       "</div>"
      ],
      "text/plain": [
       "                Données manquantes en %\n",
       "Unnamed: 69                       100.0\n",
       "2025                              100.0\n",
       "2070                              100.0\n",
       "2065                              100.0\n",
       "2060                              100.0\n",
       "...                                 ...\n",
       "2010                               34.0\n",
       "Country Code                        0.0\n",
       "Indicator Code                      0.0\n",
       "Indicator Name                      0.0\n",
       "Country Name                        0.0\n",
       "\n",
       "[70 rows x 1 columns]"
      ]
     },
     "execution_count": 321,
     "metadata": {},
     "output_type": "execute_result"
    }
   ],
   "source": [
    "pd.DataFrame(df_filtre.isna().mean().round(2)*100,\n",
    "            columns=['Données manquantes en %'\n",
    "                    ]).sort_values(by='Données manquantes en %',\n",
    "                                     ascending=False)"
   ]
  },
  {
   "cell_type": "markdown",
   "metadata": {},
   "source": [
    "# Visualisation des données manquantes du df"
   ]
  },
  {
   "cell_type": "code",
   "execution_count": 322,
   "metadata": {},
   "outputs": [
    {
     "data": {
      "text/plain": [
       "<AxesSubplot:ylabel='None-None'>"
      ]
     },
     "execution_count": 322,
     "metadata": {},
     "output_type": "execute_result"
    },
    {
     "data": {
      "image/png": "[encoded data removed]",
      "text/plain": [
       "<Figure size 1440x576 with 2 Axes>"
      ]
     },
     "metadata": {
      "needs_background": "light"
     },
     "output_type": "display_data"
    }
   ],
   "source": [
    "plt.figure(figsize=(20,8))\n",
    "sns.heatmap(df_filtre.isna())"
   ]
  },
  {
   "cell_type": "markdown",
   "metadata": {},
   "source": [
    "La on va essayer de supprimer des colonnes lorsqu'elles atteignent un pourcentage seuil (par exemple 65 %) de données manquantes"
   ]
  },
  {
   "cell_type": "code",
   "execution_count": 9,
   "metadata": {},
   "outputs": [],
   "source": [
    "temp = df_filtre.isna().mean().round(2)*100\n",
    "for i in range(len(temp)):\n",
    "    if temp[i] > 65:\n",
    "        del df_filtre[temp.index[i]]"
   ]
  },
  {
   "cell_type": "code",
   "execution_count": 519,
   "metadata": {},
   "outputs": [
    {
     "name": "stdout",
     "output_type": "stream",
     "text": [
      "(968, 17)\n"
     ]
    },
    {
     "data": {
      "text/plain": [
       "Index(['Country Name', 'Country Code', 'Indicator Name', 'Indicator Code',\n",
       "       '1990', '1995', '2000', '2002', '2004', '2005', '2007', '2008', '2009',\n",
       "       '2010', '2011', '2012', '2013'],\n",
       "      dtype='object')"
      ]
     },
     "execution_count": 519,
     "metadata": {},
     "output_type": "execute_result"
    }
   ],
   "source": [
    "print(df_filtre.shape)\n",
    "df_filtre.columns"
   ]
  },
  {
   "cell_type": "markdown",
   "metadata": {},
   "source": [
    "# ReVisualisation des données manquantes par colonne du noveau df"
   ]
  },
  {
   "cell_type": "code",
   "execution_count": 520,
   "metadata": {},
   "outputs": [
    {
     "data": {
      "text/plain": [
       "<AxesSubplot:ylabel='None-None'>"
      ]
     },
     "execution_count": 520,
     "metadata": {},
     "output_type": "execute_result"
    },
    {
     "data": {
      "image/png": "[encoded data removed]",
      "text/plain": [
       "<Figure size 1080x576 with 2 Axes>"
      ]
     },
     "metadata": {
      "needs_background": "light"
     },
     "output_type": "display_data"
    }
   ],
   "source": [
    "plt.figure(figsize=(15,8))\n",
    "sns.heatmap(df_filtre.isna())"
   ]
  },
  {
   "cell_type": "code",
   "execution_count": 423,
   "metadata": {},
   "outputs": [
    {
     "data": {
      "text/plain": [
       "<AxesSubplot:>"
      ]
     },
     "execution_count": 423,
     "metadata": {},
     "output_type": "execute_result"
    },
    {
     "data": {
      "image/png": "[encoded data removed]",
      "text/plain": [
       "<Figure size 1080x360 with 2 Axes>"
      ]
     },
     "metadata": {
      "needs_background": "light"
     },
     "output_type": "display_data"
    }
   ],
   "source": [
    "missingno.matrix(df_filtre, figsize=(15,5), fontsize=12)"
   ]
  },
  {
   "cell_type": "markdown",
   "metadata": {},
   "source": [
    "On ne va pas chercher plus loin dans le passer pour des infos en rapport avec des cours en lignes"
   ]
  },
  {
   "cell_type": "markdown",
   "metadata": {},
   "source": [
    "Supprimons donc les colonnes jusqu'en 2010"
   ]
  },
  {
   "cell_type": "code",
   "execution_count": 10,
   "metadata": {},
   "outputs": [],
   "source": [
    "df_filtre = df_filtre.drop(columns=['1990', '1995','2000', '2002', '2004', '2005', '2007', '2008', '2009'])"
   ]
  },
  {
   "cell_type": "code",
   "execution_count": 11,
   "metadata": {},
   "outputs": [
    {
     "name": "stdout",
     "output_type": "stream",
     "text": [
      "(968, 8)\n"
     ]
    },
    {
     "data": {
      "text/plain": [
       "Index(['Country Name', 'Country Code', 'Indicator Name', 'Indicator Code',\n",
       "       '2010', '2011', '2012', '2013'],\n",
       "      dtype='object')"
      ]
     },
     "execution_count": 11,
     "metadata": {},
     "output_type": "execute_result"
    }
   ],
   "source": [
    "print((df_filtre.shape))\n",
    "df_filtre.columns"
   ]
  },
  {
   "cell_type": "code",
   "execution_count": 426,
   "metadata": {},
   "outputs": [
    {
     "data": {
      "text/html": [
       "<div>\n",
       "<style scoped>\n",
       "    .dataframe tbody tr th:only-of-type {\n",
       "        vertical-align: middle;\n",
       "    }\n",
       "\n",
       "    .dataframe tbody tr th {\n",
       "        vertical-align: top;\n",
       "    }\n",
       "\n",
       "    .dataframe thead th {\n",
       "        text-align: right;\n",
       "    }\n",
       "</style>\n",
       "<table border=\"1\" class=\"dataframe\">\n",
       "  <thead>\n",
       "    <tr style=\"text-align: right;\">\n",
       "      <th></th>\n",
       "      <th></th>\n",
       "      <th>Country Name</th>\n",
       "      <th>Country Code</th>\n",
       "      <th>Indicator Name</th>\n",
       "      <th>Indicator Code</th>\n",
       "      <th>2010</th>\n",
       "      <th>2011</th>\n",
       "      <th>2012</th>\n",
       "      <th>2013</th>\n",
       "    </tr>\n",
       "  </thead>\n",
       "  <tbody>\n",
       "    <tr>\n",
       "      <th rowspan=\"3\" valign=\"top\">internet</th>\n",
       "      <th>0</th>\n",
       "      <td>Arab World</td>\n",
       "      <td>ARB</td>\n",
       "      <td>Internet users (per 100 people)</td>\n",
       "      <td>IT.NET.USER.P2</td>\n",
       "      <td>26.747251</td>\n",
       "      <td>29.707761</td>\n",
       "      <td>34.014224</td>\n",
       "      <td>36.868602</td>\n",
       "    </tr>\n",
       "    <tr>\n",
       "      <th>1</th>\n",
       "      <td>East Asia &amp; Pacific</td>\n",
       "      <td>EAS</td>\n",
       "      <td>Internet users (per 100 people)</td>\n",
       "      <td>IT.NET.USER.P2</td>\n",
       "      <td>34.230838</td>\n",
       "      <td>37.365156</td>\n",
       "      <td>40.709345</td>\n",
       "      <td>44.577349</td>\n",
       "    </tr>\n",
       "    <tr>\n",
       "      <th>2</th>\n",
       "      <td>East Asia &amp; Pacific (excluding high income)</td>\n",
       "      <td>EAP</td>\n",
       "      <td>Internet users (per 100 people)</td>\n",
       "      <td>IT.NET.USER.P2</td>\n",
       "      <td>28.957572</td>\n",
       "      <td>32.385761</td>\n",
       "      <td>36.068349</td>\n",
       "      <td>39.708933</td>\n",
       "    </tr>\n",
       "  </tbody>\n",
       "</table>\n",
       "</div>"
      ],
      "text/plain": [
       "                                           Country Name Country Code  \\\n",
       "internet 0                                   Arab World          ARB   \n",
       "         1                          East Asia & Pacific          EAS   \n",
       "         2  East Asia & Pacific (excluding high income)          EAP   \n",
       "\n",
       "                             Indicator Name  Indicator Code       2010  \\\n",
       "internet 0  Internet users (per 100 people)  IT.NET.USER.P2  26.747251   \n",
       "         1  Internet users (per 100 people)  IT.NET.USER.P2  34.230838   \n",
       "         2  Internet users (per 100 people)  IT.NET.USER.P2  28.957572   \n",
       "\n",
       "                 2011       2012       2013  \n",
       "internet 0  29.707761  34.014224  36.868602  \n",
       "         1  37.365156  40.709345  44.577349  \n",
       "         2  32.385761  36.068349  39.708933  "
      ]
     },
     "execution_count": 426,
     "metadata": {},
     "output_type": "execute_result"
    }
   ],
   "source": [
    "df_filtre[df_filtre['Indicator Code'] == 'IT.NET.USER.P2'].head(3)"
   ]
  },
  {
   "cell_type": "markdown",
   "metadata": {},
   "source": [
    "# ReVisualisation des données manquantes par colonne du noveau df"
   ]
  },
  {
   "cell_type": "code",
   "execution_count": 523,
   "metadata": {},
   "outputs": [
    {
     "data": {
      "text/plain": [
       "<AxesSubplot:ylabel='None-None'>"
      ]
     },
     "execution_count": 523,
     "metadata": {},
     "output_type": "execute_result"
    },
    {
     "data": {
      "image/png": "[encoded data removed]",
      "text/plain": [
       "<Figure size 1080x576 with 1 Axes>"
      ]
     },
     "metadata": {
      "needs_background": "light"
     },
     "output_type": "display_data"
    }
   ],
   "source": [
    "plt.figure(figsize=(15,8))\n",
    "sns.heatmap(df_filtre.isna(), cbar=False)"
   ]
  },
  {
   "cell_type": "markdown",
   "metadata": {},
   "source": [
    "La viisualisation des Données manquantes par colonne nous fait sentir une relation qui pourrait nous permettre de completer les données qui manquent (soit par imputation soit interpolation (peut être bien))"
   ]
  },
  {
   "cell_type": "markdown",
   "metadata": {},
   "source": [
    "Mais bon ne nous aventurons dans sur ce chemin ... les données non manquantes qu'on dispose doivent faire l'affaire et on sera au moins sûr de ce qu'on avancera"
   ]
  },
  {
   "cell_type": "markdown",
   "metadata": {},
   "source": [
    "Maintenant qu'on a en main nos données (contenu dans df_2 et df_filtre) nous permettant de répondre à la problématique"
   ]
  },
  {
   "cell_type": "markdown",
   "metadata": {},
   "source": [
    "Passons à présent au nettoyage et au préprocessing de ces données"
   ]
  },
  {
   "cell_type": "markdown",
   "metadata": {},
   "source": [
    "# QUELS SONT LES PAYS DEVELOPES (RICHES) ?"
   ]
  },
  {
   "cell_type": "code",
   "execution_count": 264,
   "metadata": {},
   "outputs": [
    {
     "data": {
      "text/plain": [
       "array(['High income: nonOECD', 'Low income', 'Upper middle income', nan,\n",
       "       'Lower middle income', 'High income: OECD'], dtype=object)"
      ]
     },
     "execution_count": 264,
     "metadata": {},
     "output_type": "execute_result"
    }
   ],
   "source": [
    "df_2['Income Group'].unique()"
   ]
  },
  {
   "cell_type": "code",
   "execution_count": 429,
   "metadata": {},
   "outputs": [
    {
     "data": {
      "text/plain": [
       "Upper middle income     55\n",
       "Lower middle income     50\n",
       "High income: nonOECD    44\n",
       "Low income              34\n",
       "High income: OECD       31\n",
       "Name: Income Group, dtype: int64"
      ]
     },
     "execution_count": 429,
     "metadata": {},
     "output_type": "execute_result"
    }
   ],
   "source": [
    "df_2['Income Group'].value_counts()"
   ]
  },
  {
   "cell_type": "markdown",
   "metadata": {},
   "source": [
    "On voit qu'on a : 44 'High income: nonOECD' et 31 'High income: OECD', les deux classes qui nous interessent"
   ]
  },
  {
   "cell_type": "code",
   "execution_count": 12,
   "metadata": {},
   "outputs": [],
   "source": [
    "df_pays_dev = pd.concat([df_2[df_2['Income Group'] == 'High income: nonOECD'],\n",
    "           df_2[df_2['Income Group'] == 'High income: OECD']],\n",
    "          axis=0).reset_index()"
   ]
  },
  {
   "cell_type": "code",
   "execution_count": 32,
   "metadata": {},
   "outputs": [
    {
     "data": {
      "text/plain": [
       "Index(['index', 'Country Code', 'Income Group'], dtype='object')"
      ]
     },
     "execution_count": 32,
     "metadata": {},
     "output_type": "execute_result"
    }
   ],
   "source": [
    "df_pays_dev.columns"
   ]
  },
  {
   "cell_type": "code",
   "execution_count": 13,
   "metadata": {},
   "outputs": [
    {
     "data": {
      "text/plain": [
       "(75, 2)"
      ]
     },
     "execution_count": 13,
     "metadata": {},
     "output_type": "execute_result"
    }
   ],
   "source": [
    "del df_pays_dev['index']\n",
    "df_pays_dev.shape"
   ]
  },
  {
   "cell_type": "code",
   "execution_count": 35,
   "metadata": {},
   "outputs": [
    {
     "data": {
      "text/html": [
       "<div>\n",
       "<style scoped>\n",
       "    .dataframe tbody tr th:only-of-type {\n",
       "        vertical-align: middle;\n",
       "    }\n",
       "\n",
       "    .dataframe tbody tr th {\n",
       "        vertical-align: top;\n",
       "    }\n",
       "\n",
       "    .dataframe thead th {\n",
       "        text-align: right;\n",
       "    }\n",
       "</style>\n",
       "<table border=\"1\" class=\"dataframe\">\n",
       "  <thead>\n",
       "    <tr style=\"text-align: right;\">\n",
       "      <th></th>\n",
       "      <th>Country Code</th>\n",
       "      <th>Income Group</th>\n",
       "    </tr>\n",
       "  </thead>\n",
       "  <tbody>\n",
       "    <tr>\n",
       "      <th>0</th>\n",
       "      <td>ABW</td>\n",
       "      <td>High income: nonOECD</td>\n",
       "    </tr>\n",
       "    <tr>\n",
       "      <th>1</th>\n",
       "      <td>AND</td>\n",
       "      <td>High income: nonOECD</td>\n",
       "    </tr>\n",
       "    <tr>\n",
       "      <th>2</th>\n",
       "      <td>ARE</td>\n",
       "      <td>High income: nonOECD</td>\n",
       "    </tr>\n",
       "    <tr>\n",
       "      <th>3</th>\n",
       "      <td>ATG</td>\n",
       "      <td>High income: nonOECD</td>\n",
       "    </tr>\n",
       "    <tr>\n",
       "      <th>4</th>\n",
       "      <td>BHR</td>\n",
       "      <td>High income: nonOECD</td>\n",
       "    </tr>\n",
       "  </tbody>\n",
       "</table>\n",
       "</div>"
      ],
      "text/plain": [
       "  Country Code          Income Group\n",
       "0          ABW  High income: nonOECD\n",
       "1          AND  High income: nonOECD\n",
       "2          ARE  High income: nonOECD\n",
       "3          ATG  High income: nonOECD\n",
       "4          BHR  High income: nonOECD"
      ]
     },
     "execution_count": 35,
     "metadata": {},
     "output_type": "execute_result"
    }
   ],
   "source": [
    "df_pays_dev.head()"
   ]
  },
  {
   "cell_type": "markdown",
   "metadata": {},
   "source": [
    "On a certes la liste des pays developés (riches), mais on a pas leurs nom complets, uniquement leurs code pays..."
   ]
  },
  {
   "cell_type": "markdown",
   "metadata": {},
   "source": [
    "Nous allons donc chercher pour chaque pays de cette liste trouver son nom complet"
   ]
  },
  {
   "cell_type": "code",
   "execution_count": 458,
   "metadata": {},
   "outputs": [
    {
     "data": {
      "text/plain": [
       "False    242\n",
       "dtype: int64"
      ]
     },
     "execution_count": 458,
     "metadata": {},
     "output_type": "execute_result"
    }
   ],
   "source": [
    "df_filtre.loc['dep_gouv_educ'][['Country Name', 'Country Code']].duplicated(['Country Name', 'Country Code']).value_counts()"
   ]
  },
  {
   "cell_type": "code",
   "execution_count": 14,
   "metadata": {},
   "outputs": [],
   "source": [
    "df_pay_name_code = df_filtre.loc['dep_gouv_educ'][['Country Name', 'Country Code']].reset_index()\n",
    "del df_pay_name_code['index']"
   ]
  },
  {
   "cell_type": "code",
   "execution_count": 38,
   "metadata": {},
   "outputs": [
    {
     "data": {
      "text/plain": [
       "RangeIndex(start=0, stop=75, step=1)"
      ]
     },
     "execution_count": 38,
     "metadata": {},
     "output_type": "execute_result"
    }
   ],
   "source": [
    "df_pays_dev.index"
   ]
  },
  {
   "cell_type": "markdown",
   "metadata": {},
   "source": [
    "C'est l'équivalent de la méthode merge"
   ]
  },
  {
   "cell_type": "code",
   "execution_count": 17,
   "metadata": {},
   "outputs": [],
   "source": [
    "for i in (df_pays_dev.index):\n",
    "    for j in range(df_pay_name_code.shape[0]):\n",
    "        if df_pays_dev.loc[i, 'Country Code'] == df_pay_name_code.loc[j, 'Country Code']:\n",
    "            df_pays_dev.loc[i, 'Country Name'] = df_pay_name_code.loc[j, 'Country Name']"
   ]
  },
  {
   "cell_type": "code",
   "execution_count": 18,
   "metadata": {},
   "outputs": [
    {
     "data": {
      "text/html": [
       "<div>\n",
       "<style scoped>\n",
       "    .dataframe tbody tr th:only-of-type {\n",
       "        vertical-align: middle;\n",
       "    }\n",
       "\n",
       "    .dataframe tbody tr th {\n",
       "        vertical-align: top;\n",
       "    }\n",
       "\n",
       "    .dataframe thead th {\n",
       "        text-align: right;\n",
       "    }\n",
       "</style>\n",
       "<table border=\"1\" class=\"dataframe\">\n",
       "  <thead>\n",
       "    <tr style=\"text-align: right;\">\n",
       "      <th></th>\n",
       "      <th>Country Code</th>\n",
       "      <th>Income Group</th>\n",
       "      <th>Country Name</th>\n",
       "    </tr>\n",
       "  </thead>\n",
       "  <tbody>\n",
       "    <tr>\n",
       "      <th>0</th>\n",
       "      <td>ABW</td>\n",
       "      <td>High income: nonOECD</td>\n",
       "      <td>Aruba</td>\n",
       "    </tr>\n",
       "    <tr>\n",
       "      <th>1</th>\n",
       "      <td>AND</td>\n",
       "      <td>High income: nonOECD</td>\n",
       "      <td>Andorra</td>\n",
       "    </tr>\n",
       "    <tr>\n",
       "      <th>2</th>\n",
       "      <td>ARE</td>\n",
       "      <td>High income: nonOECD</td>\n",
       "      <td>United Arab Emirates</td>\n",
       "    </tr>\n",
       "    <tr>\n",
       "      <th>3</th>\n",
       "      <td>ATG</td>\n",
       "      <td>High income: nonOECD</td>\n",
       "      <td>Antigua and Barbuda</td>\n",
       "    </tr>\n",
       "    <tr>\n",
       "      <th>4</th>\n",
       "      <td>BHR</td>\n",
       "      <td>High income: nonOECD</td>\n",
       "      <td>Bahrain</td>\n",
       "    </tr>\n",
       "  </tbody>\n",
       "</table>\n",
       "</div>"
      ],
      "text/plain": [
       "  Country Code          Income Group          Country Name\n",
       "0          ABW  High income: nonOECD                 Aruba\n",
       "1          AND  High income: nonOECD               Andorra\n",
       "2          ARE  High income: nonOECD  United Arab Emirates\n",
       "3          ATG  High income: nonOECD   Antigua and Barbuda\n",
       "4          BHR  High income: nonOECD               Bahrain"
      ]
     },
     "execution_count": 18,
     "metadata": {},
     "output_type": "execute_result"
    }
   ],
   "source": [
    "df_pays_dev.head()"
   ]
  },
  {
   "cell_type": "code",
   "execution_count": null,
   "metadata": {},
   "outputs": [],
   "source": []
  },
  {
   "cell_type": "code",
   "execution_count": null,
   "metadata": {},
   "outputs": [],
   "source": []
  },
  {
   "cell_type": "markdown",
   "metadata": {},
   "source": [
    "# Créons une fonction préprocessing pour les trois traitements similaires suivantes"
   ]
  },
  {
   "cell_type": "code",
   "execution_count": 15,
   "metadata": {},
   "outputs": [
    {
     "data": {
      "text/plain": [
       "Index(['Country Name', 'Country Code', 'Indicator Name', 'Indicator Code',\n",
       "       '2010', '2011', '2012', '2013'],\n",
       "      dtype='object')"
      ]
     },
     "execution_count": 15,
     "metadata": {},
     "output_type": "execute_result"
    }
   ],
   "source": [
    "df_filtre.columns"
   ]
  },
  {
   "cell_type": "code",
   "execution_count": 440,
   "metadata": {},
   "outputs": [
    {
     "data": {
      "text/plain": [
       "array(['internet', 'dep_gouv_educ', 'taux_etud_sec_comp',\n",
       "       'taux_etud_ter_comp'], dtype=object)"
      ]
     },
     "execution_count": 440,
     "metadata": {},
     "output_type": "execute_result"
    }
   ],
   "source": [
    "df_filtre.index.levels[0].values"
   ]
  },
  {
   "cell_type": "code",
   "execution_count": 303,
   "metadata": {},
   "outputs": [
    {
     "data": {
      "text/plain": [
       "'dep_gouv_educ'"
      ]
     },
     "execution_count": 303,
     "metadata": {},
     "output_type": "execute_result"
    }
   ],
   "source": [
    "df_filtre.index.levels[0].values[1]"
   ]
  },
  {
   "cell_type": "code",
   "execution_count": 441,
   "metadata": {},
   "outputs": [
    {
     "data": {
      "text/plain": [
       "Country Name       0.0\n",
       "Country Code       0.0\n",
       "Indicator Name     0.0\n",
       "Indicator Code     0.0\n",
       "2010              49.0\n",
       "2011              51.0\n",
       "2012              54.0\n",
       "2013              52.0\n",
       "dtype: float64"
      ]
     },
     "execution_count": 441,
     "metadata": {},
     "output_type": "execute_result"
    }
   ],
   "source": [
    "df_filtre.loc['dep_gouv_educ'].isna().mean().round(2)*100"
   ]
  },
  {
   "cell_type": "code",
   "execution_count": 19,
   "metadata": {},
   "outputs": [],
   "source": [
    "# IMPLEMENTATION DE LA FONCTION\n",
    "def preprocess(nom_index, nom_moy):\n",
    "    \n",
    "    l_col = ['2010', '2011', '2012', '2013']\n",
    "    \n",
    "    df_ = df_filtre.loc[nom_index].dropna()[['Country Name', 'Country Code', '2010', '2011', '2012', '2013']].reset_index()\n",
    "\n",
    "    del df_['index']\n",
    "\n",
    "    for i in range(df_.shape[0]):\n",
    "        som=0\n",
    "        for col in l_col:\n",
    "                som += (df_.loc[i, col])\n",
    "        df_.loc[i, nom_moy] = (som/len(l_col)).round(2)\n",
    "\n",
    "    return df_"
   ]
  },
  {
   "cell_type": "code",
   "execution_count": null,
   "metadata": {},
   "outputs": [],
   "source": []
  },
  {
   "cell_type": "markdown",
   "metadata": {},
   "source": [
    "# QUELS SONT LES PAYS DONT LE % DE DEPENSES EN ENSEIGNEMENT EST ELEVE ?"
   ]
  },
  {
   "cell_type": "code",
   "execution_count": 507,
   "metadata": {},
   "outputs": [
    {
     "data": {
      "text/html": [
       "<div>\n",
       "<style scoped>\n",
       "    .dataframe tbody tr th:only-of-type {\n",
       "        vertical-align: middle;\n",
       "    }\n",
       "\n",
       "    .dataframe tbody tr th {\n",
       "        vertical-align: top;\n",
       "    }\n",
       "\n",
       "    .dataframe thead th {\n",
       "        text-align: right;\n",
       "    }\n",
       "</style>\n",
       "<table border=\"1\" class=\"dataframe\">\n",
       "  <thead>\n",
       "    <tr style=\"text-align: right;\">\n",
       "      <th></th>\n",
       "      <th>Country Name</th>\n",
       "      <th>Country Code</th>\n",
       "      <th>2010</th>\n",
       "      <th>2011</th>\n",
       "      <th>2012</th>\n",
       "      <th>2013</th>\n",
       "      <th>moy_%_dep</th>\n",
       "    </tr>\n",
       "  </thead>\n",
       "  <tbody>\n",
       "    <tr>\n",
       "      <th>0</th>\n",
       "      <td>Afghanistan</td>\n",
       "      <td>AFG</td>\n",
       "      <td>17.06756</td>\n",
       "      <td>16.048429</td>\n",
       "      <td>10.35680</td>\n",
       "      <td>14.10280</td>\n",
       "      <td>14.39</td>\n",
       "    </tr>\n",
       "    <tr>\n",
       "      <th>1</th>\n",
       "      <td>Argentina</td>\n",
       "      <td>ARG</td>\n",
       "      <td>15.82468</td>\n",
       "      <td>15.963540</td>\n",
       "      <td>15.33520</td>\n",
       "      <td>15.26242</td>\n",
       "      <td>15.60</td>\n",
       "    </tr>\n",
       "    <tr>\n",
       "      <th>2</th>\n",
       "      <td>Armenia</td>\n",
       "      <td>ARM</td>\n",
       "      <td>12.40051</td>\n",
       "      <td>12.593340</td>\n",
       "      <td>12.36897</td>\n",
       "      <td>11.13676</td>\n",
       "      <td>12.12</td>\n",
       "    </tr>\n",
       "  </tbody>\n",
       "</table>\n",
       "</div>"
      ],
      "text/plain": [
       "  Country Name Country Code      2010       2011      2012      2013  \\\n",
       "0  Afghanistan          AFG  17.06756  16.048429  10.35680  14.10280   \n",
       "1    Argentina          ARG  15.82468  15.963540  15.33520  15.26242   \n",
       "2      Armenia          ARM  12.40051  12.593340  12.36897  11.13676   \n",
       "\n",
       "   moy_%_dep  \n",
       "0      14.39  \n",
       "1      15.60  \n",
       "2      12.12  "
      ]
     },
     "execution_count": 507,
     "metadata": {},
     "output_type": "execute_result"
    }
   ],
   "source": [
    "preprocess('dep_gouv_educ', 'moy_%_dep').head(3)"
   ]
  },
  {
   "cell_type": "code",
   "execution_count": 20,
   "metadata": {},
   "outputs": [],
   "source": [
    "df_dep_gouv_educ = preprocess('dep_gouv_educ', 'moy_%_dep')"
   ]
  },
  {
   "cell_type": "code",
   "execution_count": 21,
   "metadata": {},
   "outputs": [],
   "source": [
    "df_dep_gouv_educ = df_dep_gouv_educ[df_dep_gouv_educ['moy_%_dep'] >= 10]"
   ]
  },
  {
   "cell_type": "code",
   "execution_count": 509,
   "metadata": {},
   "outputs": [
    {
     "name": "stdout",
     "output_type": "stream",
     "text": [
      "Les dix premiers pays ayant le plus grand % de dépense dans l'éducation\n",
      "\n"
     ]
    },
    {
     "data": {
      "text/html": [
       "<div>\n",
       "<style scoped>\n",
       "    .dataframe tbody tr th:only-of-type {\n",
       "        vertical-align: middle;\n",
       "    }\n",
       "\n",
       "    .dataframe tbody tr th {\n",
       "        vertical-align: top;\n",
       "    }\n",
       "\n",
       "    .dataframe thead th {\n",
       "        text-align: right;\n",
       "    }\n",
       "</style>\n",
       "<table border=\"1\" class=\"dataframe\">\n",
       "  <thead>\n",
       "    <tr style=\"text-align: right;\">\n",
       "      <th></th>\n",
       "      <th>Country Name</th>\n",
       "      <th>moy_%_dep</th>\n",
       "    </tr>\n",
       "  </thead>\n",
       "  <tbody>\n",
       "    <tr>\n",
       "      <th>25</th>\n",
       "      <td>Ethiopia</td>\n",
       "      <td>28.38</td>\n",
       "    </tr>\n",
       "    <tr>\n",
       "      <th>31</th>\n",
       "      <td>Ghana</td>\n",
       "      <td>27.22</td>\n",
       "    </tr>\n",
       "    <tr>\n",
       "      <th>18</th>\n",
       "      <td>Costa Rica</td>\n",
       "      <td>23.06</td>\n",
       "    </tr>\n",
       "    <tr>\n",
       "      <th>70</th>\n",
       "      <td>Senegal</td>\n",
       "      <td>22.92</td>\n",
       "    </tr>\n",
       "    <tr>\n",
       "      <th>19</th>\n",
       "      <td>Cote d'Ivoire</td>\n",
       "      <td>21.91</td>\n",
       "    </tr>\n",
       "    <tr>\n",
       "      <th>3</th>\n",
       "      <td>Aruba</td>\n",
       "      <td>21.60</td>\n",
       "    </tr>\n",
       "    <tr>\n",
       "      <th>32</th>\n",
       "      <td>Guatemala</td>\n",
       "      <td>20.32</td>\n",
       "    </tr>\n",
       "    <tr>\n",
       "      <th>35</th>\n",
       "      <td>Hong Kong SAR, China</td>\n",
       "      <td>19.81</td>\n",
       "    </tr>\n",
       "    <tr>\n",
       "      <th>81</th>\n",
       "      <td>Thailand</td>\n",
       "      <td>19.78</td>\n",
       "    </tr>\n",
       "    <tr>\n",
       "      <th>44</th>\n",
       "      <td>Kenya</td>\n",
       "      <td>19.72</td>\n",
       "    </tr>\n",
       "  </tbody>\n",
       "</table>\n",
       "</div>"
      ],
      "text/plain": [
       "            Country Name  moy_%_dep\n",
       "25              Ethiopia      28.38\n",
       "31                 Ghana      27.22\n",
       "18            Costa Rica      23.06\n",
       "70               Senegal      22.92\n",
       "19         Cote d'Ivoire      21.91\n",
       "3                  Aruba      21.60\n",
       "32             Guatemala      20.32\n",
       "35  Hong Kong SAR, China      19.81\n",
       "81              Thailand      19.78\n",
       "44                 Kenya      19.72"
      ]
     },
     "execution_count": 509,
     "metadata": {},
     "output_type": "execute_result"
    }
   ],
   "source": [
    "print(\"Les dix premiers pays ayant le plus grand % de dépense dans l'éducation\\n\")\n",
    "\n",
    "df_dep_gouv_educ.sort_values(by='moy_%_dep', ascending=False)[['Country Name','moy_%_dep']][:10]"
   ]
  },
  {
   "cell_type": "code",
   "execution_count": null,
   "metadata": {},
   "outputs": [],
   "source": []
  },
  {
   "cell_type": "code",
   "execution_count": null,
   "metadata": {
    "scrolled": true
   },
   "outputs": [],
   "source": []
  },
  {
   "cell_type": "code",
   "execution_count": null,
   "metadata": {},
   "outputs": [],
   "source": []
  },
  {
   "cell_type": "markdown",
   "metadata": {},
   "source": [
    "# QUELS SONT LES PAYS QUI ONT LE PLUS GRAND NOMBRE D'UTILISATEUR INTERNET ?"
   ]
  },
  {
   "cell_type": "code",
   "execution_count": 510,
   "metadata": {},
   "outputs": [
    {
     "data": {
      "text/html": [
       "<div>\n",
       "<style scoped>\n",
       "    .dataframe tbody tr th:only-of-type {\n",
       "        vertical-align: middle;\n",
       "    }\n",
       "\n",
       "    .dataframe tbody tr th {\n",
       "        vertical-align: top;\n",
       "    }\n",
       "\n",
       "    .dataframe thead th {\n",
       "        text-align: right;\n",
       "    }\n",
       "</style>\n",
       "<table border=\"1\" class=\"dataframe\">\n",
       "  <thead>\n",
       "    <tr style=\"text-align: right;\">\n",
       "      <th></th>\n",
       "      <th>Country Name</th>\n",
       "      <th>Country Code</th>\n",
       "      <th>2010</th>\n",
       "      <th>2011</th>\n",
       "      <th>2012</th>\n",
       "      <th>2013</th>\n",
       "      <th>moy_%_user_net</th>\n",
       "    </tr>\n",
       "  </thead>\n",
       "  <tbody>\n",
       "    <tr>\n",
       "      <th>0</th>\n",
       "      <td>Arab World</td>\n",
       "      <td>ARB</td>\n",
       "      <td>26.747251</td>\n",
       "      <td>29.707761</td>\n",
       "      <td>34.014224</td>\n",
       "      <td>36.868602</td>\n",
       "      <td>31.83</td>\n",
       "    </tr>\n",
       "    <tr>\n",
       "      <th>1</th>\n",
       "      <td>East Asia &amp; Pacific</td>\n",
       "      <td>EAS</td>\n",
       "      <td>34.230838</td>\n",
       "      <td>37.365156</td>\n",
       "      <td>40.709345</td>\n",
       "      <td>44.577349</td>\n",
       "      <td>39.22</td>\n",
       "    </tr>\n",
       "    <tr>\n",
       "      <th>2</th>\n",
       "      <td>East Asia &amp; Pacific (excluding high income)</td>\n",
       "      <td>EAP</td>\n",
       "      <td>28.957572</td>\n",
       "      <td>32.385761</td>\n",
       "      <td>36.068349</td>\n",
       "      <td>39.708933</td>\n",
       "      <td>34.28</td>\n",
       "    </tr>\n",
       "    <tr>\n",
       "      <th>3</th>\n",
       "      <td>Euro area</td>\n",
       "      <td>EMU</td>\n",
       "      <td>71.036722</td>\n",
       "      <td>72.001164</td>\n",
       "      <td>74.092136</td>\n",
       "      <td>75.821560</td>\n",
       "      <td>73.24</td>\n",
       "    </tr>\n",
       "    <tr>\n",
       "      <th>4</th>\n",
       "      <td>Europe &amp; Central Asia</td>\n",
       "      <td>ECS</td>\n",
       "      <td>56.119117</td>\n",
       "      <td>58.834630</td>\n",
       "      <td>63.486253</td>\n",
       "      <td>66.306669</td>\n",
       "      <td>61.19</td>\n",
       "    </tr>\n",
       "  </tbody>\n",
       "</table>\n",
       "</div>"
      ],
      "text/plain": [
       "                                  Country Name Country Code       2010  \\\n",
       "0                                   Arab World          ARB  26.747251   \n",
       "1                          East Asia & Pacific          EAS  34.230838   \n",
       "2  East Asia & Pacific (excluding high income)          EAP  28.957572   \n",
       "3                                    Euro area          EMU  71.036722   \n",
       "4                        Europe & Central Asia          ECS  56.119117   \n",
       "\n",
       "        2011       2012       2013  moy_%_user_net  \n",
       "0  29.707761  34.014224  36.868602           31.83  \n",
       "1  37.365156  40.709345  44.577349           39.22  \n",
       "2  32.385761  36.068349  39.708933           34.28  \n",
       "3  72.001164  74.092136  75.821560           73.24  \n",
       "4  58.834630  63.486253  66.306669           61.19  "
      ]
     },
     "execution_count": 510,
     "metadata": {},
     "output_type": "execute_result"
    }
   ],
   "source": [
    "preprocess('internet', 'moy_%_user_net').head()"
   ]
  },
  {
   "cell_type": "code",
   "execution_count": 22,
   "metadata": {},
   "outputs": [],
   "source": [
    "df_internet = preprocess('internet', 'moy_%_user_net')"
   ]
  },
  {
   "cell_type": "code",
   "execution_count": 55,
   "metadata": {},
   "outputs": [],
   "source": [
    "df_internet = df_internet[df_internet['moy_%_user_net'] >= 70.0]"
   ]
  },
  {
   "cell_type": "code",
   "execution_count": 56,
   "metadata": {},
   "outputs": [
    {
     "name": "stdout",
     "output_type": "stream",
     "text": [
      "Les dix premiers pays ayant le plus grand % moyen utilisateur internet depuis 2010 \n",
      "\n"
     ]
    },
    {
     "data": {
      "text/html": [
       "<div>\n",
       "<style scoped>\n",
       "    .dataframe tbody tr th:only-of-type {\n",
       "        vertical-align: middle;\n",
       "    }\n",
       "\n",
       "    .dataframe tbody tr th {\n",
       "        vertical-align: top;\n",
       "    }\n",
       "\n",
       "    .dataframe thead th {\n",
       "        text-align: right;\n",
       "    }\n",
       "</style>\n",
       "<table border=\"1\" class=\"dataframe\">\n",
       "  <thead>\n",
       "    <tr style=\"text-align: right;\">\n",
       "      <th></th>\n",
       "      <th>Country Name</th>\n",
       "      <th>moy_%_user_net</th>\n",
       "    </tr>\n",
       "  </thead>\n",
       "  <tbody>\n",
       "    <tr>\n",
       "      <th>107</th>\n",
       "      <td>Iceland</td>\n",
       "      <td>95.24</td>\n",
       "    </tr>\n",
       "    <tr>\n",
       "      <th>160</th>\n",
       "      <td>Norway</td>\n",
       "      <td>94.15</td>\n",
       "    </tr>\n",
       "    <tr>\n",
       "      <th>195</th>\n",
       "      <td>Sweden</td>\n",
       "      <td>92.68</td>\n",
       "    </tr>\n",
       "    <tr>\n",
       "      <th>154</th>\n",
       "      <td>Netherlands</td>\n",
       "      <td>92.24</td>\n",
       "    </tr>\n",
       "    <tr>\n",
       "      <th>131</th>\n",
       "      <td>Luxembourg</td>\n",
       "      <td>91.59</td>\n",
       "    </tr>\n",
       "    <tr>\n",
       "      <th>74</th>\n",
       "      <td>Denmark</td>\n",
       "      <td>91.35</td>\n",
       "    </tr>\n",
       "    <tr>\n",
       "      <th>45</th>\n",
       "      <td>Bermuda</td>\n",
       "      <td>89.79</td>\n",
       "    </tr>\n",
       "    <tr>\n",
       "      <th>87</th>\n",
       "      <td>Finland</td>\n",
       "      <td>89.25</td>\n",
       "    </tr>\n",
       "    <tr>\n",
       "      <th>129</th>\n",
       "      <td>Liechtenstein</td>\n",
       "      <td>87.05</td>\n",
       "    </tr>\n",
       "    <tr>\n",
       "      <th>212</th>\n",
       "      <td>United Kingdom</td>\n",
       "      <td>86.93</td>\n",
       "    </tr>\n",
       "  </tbody>\n",
       "</table>\n",
       "</div>"
      ],
      "text/plain": [
       "       Country Name  moy_%_user_net\n",
       "107         Iceland           95.24\n",
       "160          Norway           94.15\n",
       "195          Sweden           92.68\n",
       "154     Netherlands           92.24\n",
       "131      Luxembourg           91.59\n",
       "74          Denmark           91.35\n",
       "45          Bermuda           89.79\n",
       "87          Finland           89.25\n",
       "129   Liechtenstein           87.05\n",
       "212  United Kingdom           86.93"
      ]
     },
     "execution_count": 56,
     "metadata": {},
     "output_type": "execute_result"
    }
   ],
   "source": [
    "print(\"Les dix premiers pays ayant le plus grand % moyen utilisateur internet depuis 2010 \\n\")\n",
    "df_internet.sort_values(by='moy_%_user_net', ascending=False)[['Country Name','moy_%_user_net']][:10]"
   ]
  },
  {
   "cell_type": "code",
   "execution_count": null,
   "metadata": {},
   "outputs": [],
   "source": [
    "\n"
   ]
  },
  {
   "cell_type": "code",
   "execution_count": null,
   "metadata": {},
   "outputs": [],
   "source": []
  },
  {
   "cell_type": "code",
   "execution_count": null,
   "metadata": {},
   "outputs": [],
   "source": []
  },
  {
   "cell_type": "code",
   "execution_count": null,
   "metadata": {},
   "outputs": [],
   "source": []
  },
  {
   "cell_type": "code",
   "execution_count": null,
   "metadata": {},
   "outputs": [],
   "source": []
  },
  {
   "cell_type": "markdown",
   "metadata": {},
   "source": [
    "Maintenant qu'on a les df contenant nos pays cibles (potentiels clients)"
   ]
  },
  {
   "cell_type": "markdown",
   "metadata": {},
   "source": [
    "on peut faire la jointure de ces df pour avoir les pays regroupants toutes conditions définies"
   ]
  },
  {
   "cell_type": "code",
   "execution_count": 24,
   "metadata": {},
   "outputs": [],
   "source": [
    "df_final = pd.merge(pd.merge(df_internet,\n",
    "                  df_dep_gouv_educ,\n",
    "                  on='Country Code').drop(columns=['2010_x', '2011_x', '2012_x', '2013_x',\n",
    "                                                   '2010_y', '2011_y', '2012_y', '2013_y', 'Country Name_y']),\n",
    "                    df_pays_dev, on='Country Code').drop(columns=['Country Name_x'])"
   ]
  },
  {
   "cell_type": "code",
   "execution_count": 62,
   "metadata": {},
   "outputs": [
    {
     "data": {
      "text/html": [
       "<div>\n",
       "<style scoped>\n",
       "    .dataframe tbody tr th:only-of-type {\n",
       "        vertical-align: middle;\n",
       "    }\n",
       "\n",
       "    .dataframe tbody tr th {\n",
       "        vertical-align: top;\n",
       "    }\n",
       "\n",
       "    .dataframe thead th {\n",
       "        text-align: right;\n",
       "    }\n",
       "</style>\n",
       "<table border=\"1\" class=\"dataframe\">\n",
       "  <thead>\n",
       "    <tr style=\"text-align: right;\">\n",
       "      <th></th>\n",
       "      <th>Country Code</th>\n",
       "      <th>moy_%_user_net</th>\n",
       "      <th>moy_%_dep</th>\n",
       "      <th>Income Group</th>\n",
       "      <th>Country Name</th>\n",
       "    </tr>\n",
       "  </thead>\n",
       "  <tbody>\n",
       "    <tr>\n",
       "      <th>0</th>\n",
       "      <td>ABW</td>\n",
       "      <td>70.97</td>\n",
       "      <td>21.60</td>\n",
       "      <td>High income: nonOECD</td>\n",
       "      <td>Aruba</td>\n",
       "    </tr>\n",
       "    <tr>\n",
       "      <th>1</th>\n",
       "      <td>AUS</td>\n",
       "      <td>79.49</td>\n",
       "      <td>13.76</td>\n",
       "      <td>High income: OECD</td>\n",
       "      <td>Australia</td>\n",
       "    </tr>\n",
       "    <tr>\n",
       "      <th>2</th>\n",
       "      <td>AUT</td>\n",
       "      <td>78.64</td>\n",
       "      <td>10.91</td>\n",
       "      <td>High income: OECD</td>\n",
       "      <td>Austria</td>\n",
       "    </tr>\n",
       "    <tr>\n",
       "      <th>3</th>\n",
       "      <td>DNK</td>\n",
       "      <td>91.35</td>\n",
       "      <td>14.46</td>\n",
       "      <td>High income: OECD</td>\n",
       "      <td>Denmark</td>\n",
       "    </tr>\n",
       "    <tr>\n",
       "      <th>4</th>\n",
       "      <td>EST</td>\n",
       "      <td>77.25</td>\n",
       "      <td>12.93</td>\n",
       "      <td>High income: OECD</td>\n",
       "      <td>Estonia</td>\n",
       "    </tr>\n",
       "    <tr>\n",
       "      <th>5</th>\n",
       "      <td>FIN</td>\n",
       "      <td>89.25</td>\n",
       "      <td>12.28</td>\n",
       "      <td>High income: OECD</td>\n",
       "      <td>Finland</td>\n",
       "    </tr>\n",
       "    <tr>\n",
       "      <th>6</th>\n",
       "      <td>DEU</td>\n",
       "      <td>82.45</td>\n",
       "      <td>10.83</td>\n",
       "      <td>High income: OECD</td>\n",
       "      <td>Germany</td>\n",
       "    </tr>\n",
       "    <tr>\n",
       "      <th>7</th>\n",
       "      <td>HKG</td>\n",
       "      <td>72.82</td>\n",
       "      <td>19.81</td>\n",
       "      <td>High income: nonOECD</td>\n",
       "      <td>Hong Kong SAR, China</td>\n",
       "    </tr>\n",
       "    <tr>\n",
       "      <th>8</th>\n",
       "      <td>ISL</td>\n",
       "      <td>95.24</td>\n",
       "      <td>16.26</td>\n",
       "      <td>High income: OECD</td>\n",
       "      <td>Iceland</td>\n",
       "    </tr>\n",
       "    <tr>\n",
       "      <th>9</th>\n",
       "      <td>IRL</td>\n",
       "      <td>74.98</td>\n",
       "      <td>12.30</td>\n",
       "      <td>High income: OECD</td>\n",
       "      <td>Ireland</td>\n",
       "    </tr>\n",
       "    <tr>\n",
       "      <th>10</th>\n",
       "      <td>LVA</td>\n",
       "      <td>71.63</td>\n",
       "      <td>15.24</td>\n",
       "      <td>High income: nonOECD</td>\n",
       "      <td>Latvia</td>\n",
       "    </tr>\n",
       "    <tr>\n",
       "      <th>11</th>\n",
       "      <td>NLD</td>\n",
       "      <td>92.24</td>\n",
       "      <td>11.76</td>\n",
       "      <td>High income: OECD</td>\n",
       "      <td>Netherlands</td>\n",
       "    </tr>\n",
       "    <tr>\n",
       "      <th>12</th>\n",
       "      <td>NZL</td>\n",
       "      <td>81.53</td>\n",
       "      <td>17.99</td>\n",
       "      <td>High income: OECD</td>\n",
       "      <td>New Zealand</td>\n",
       "    </tr>\n",
       "    <tr>\n",
       "      <th>13</th>\n",
       "      <td>NOR</td>\n",
       "      <td>94.15</td>\n",
       "      <td>16.20</td>\n",
       "      <td>High income: OECD</td>\n",
       "      <td>Norway</td>\n",
       "    </tr>\n",
       "    <tr>\n",
       "      <th>14</th>\n",
       "      <td>QAT</td>\n",
       "      <td>73.15</td>\n",
       "      <td>13.09</td>\n",
       "      <td>High income: nonOECD</td>\n",
       "      <td>Qatar</td>\n",
       "    </tr>\n",
       "    <tr>\n",
       "      <th>15</th>\n",
       "      <td>SGP</td>\n",
       "      <td>73.73</td>\n",
       "      <td>19.55</td>\n",
       "      <td>High income: nonOECD</td>\n",
       "      <td>Singapore</td>\n",
       "    </tr>\n",
       "    <tr>\n",
       "      <th>16</th>\n",
       "      <td>SWE</td>\n",
       "      <td>92.68</td>\n",
       "      <td>13.88</td>\n",
       "      <td>High income: OECD</td>\n",
       "      <td>Sweden</td>\n",
       "    </tr>\n",
       "    <tr>\n",
       "      <th>17</th>\n",
       "      <td>CHE</td>\n",
       "      <td>85.16</td>\n",
       "      <td>15.40</td>\n",
       "      <td>High income: OECD</td>\n",
       "      <td>Switzerland</td>\n",
       "    </tr>\n",
       "    <tr>\n",
       "      <th>18</th>\n",
       "      <td>USA</td>\n",
       "      <td>71.88</td>\n",
       "      <td>13.17</td>\n",
       "      <td>High income: OECD</td>\n",
       "      <td>United States</td>\n",
       "    </tr>\n",
       "  </tbody>\n",
       "</table>\n",
       "</div>"
      ],
      "text/plain": [
       "   Country Code  moy_%_user_net  moy_%_dep          Income Group  \\\n",
       "0           ABW           70.97      21.60  High income: nonOECD   \n",
       "1           AUS           79.49      13.76     High income: OECD   \n",
       "2           AUT           78.64      10.91     High income: OECD   \n",
       "3           DNK           91.35      14.46     High income: OECD   \n",
       "4           EST           77.25      12.93     High income: OECD   \n",
       "5           FIN           89.25      12.28     High income: OECD   \n",
       "6           DEU           82.45      10.83     High income: OECD   \n",
       "7           HKG           72.82      19.81  High income: nonOECD   \n",
       "8           ISL           95.24      16.26     High income: OECD   \n",
       "9           IRL           74.98      12.30     High income: OECD   \n",
       "10          LVA           71.63      15.24  High income: nonOECD   \n",
       "11          NLD           92.24      11.76     High income: OECD   \n",
       "12          NZL           81.53      17.99     High income: OECD   \n",
       "13          NOR           94.15      16.20     High income: OECD   \n",
       "14          QAT           73.15      13.09  High income: nonOECD   \n",
       "15          SGP           73.73      19.55  High income: nonOECD   \n",
       "16          SWE           92.68      13.88     High income: OECD   \n",
       "17          CHE           85.16      15.40     High income: OECD   \n",
       "18          USA           71.88      13.17     High income: OECD   \n",
       "\n",
       "            Country Name  \n",
       "0                  Aruba  \n",
       "1              Australia  \n",
       "2                Austria  \n",
       "3                Denmark  \n",
       "4                Estonia  \n",
       "5                Finland  \n",
       "6                Germany  \n",
       "7   Hong Kong SAR, China  \n",
       "8                Iceland  \n",
       "9                Ireland  \n",
       "10                Latvia  \n",
       "11           Netherlands  \n",
       "12           New Zealand  \n",
       "13                Norway  \n",
       "14                 Qatar  \n",
       "15             Singapore  \n",
       "16                Sweden  \n",
       "17           Switzerland  \n",
       "18         United States  "
      ]
     },
     "execution_count": 62,
     "metadata": {},
     "output_type": "execute_result"
    }
   ],
   "source": [
    "df_final"
   ]
  },
  {
   "cell_type": "code",
   "execution_count": 105,
   "metadata": {},
   "outputs": [
    {
     "data": {
      "text/plain": [
       "<Figure size 864x576 with 0 Axes>"
      ]
     },
     "metadata": {},
     "output_type": "display_data"
    },
    {
     "data": {
      "image/png": "[encoded data removed]",
      "text/plain": [
       "<Figure size 432x288 with 1 Axes>"
      ]
     },
     "metadata": {
      "needs_background": "light"
     },
     "output_type": "display_data"
    }
   ],
   "source": [
    "fig = plt.figure(figsize=(12,8))\n",
    "df_final.plot(kind='bar')\n",
    "plt.show()"
   ]
  },
  {
   "cell_type": "code",
   "execution_count": null,
   "metadata": {},
   "outputs": [],
   "source": []
  },
  {
   "cell_type": "code",
   "execution_count": 106,
   "metadata": {},
   "outputs": [
    {
     "data": {
      "text/plain": [
       "<seaborn.axisgrid.FacetGrid at 0x214976db9a0>"
      ]
     },
     "execution_count": 106,
     "metadata": {},
     "output_type": "execute_result"
    },
    {
     "data": {
      "text/plain": [
       "<Figure size 1080x576 with 0 Axes>"
      ]
     },
     "metadata": {},
     "output_type": "display_data"
    },
    {
     "data": {
      "image/png": "[encoded data removed]",
      "text/plain": [
       "<Figure size 508.25x360 with 1 Axes>"
      ]
     },
     "metadata": {
      "needs_background": "light"
     },
     "output_type": "display_data"
    }
   ],
   "source": [
    "fig = plt.figure(figsize=(15,8))\n",
    "sns.catplot(x='moy_%_user_net', y='moy_%_dep', data=df_final, hue='Country Name')"
   ]
  },
  {
   "cell_type": "code",
   "execution_count": null,
   "metadata": {},
   "outputs": [],
   "source": []
  },
  {
   "cell_type": "code",
   "execution_count": 103,
   "metadata": {},
   "outputs": [
    {
     "data": {
      "text/plain": [
       "<seaborn.axisgrid.FacetGrid at 0x214976913d0>"
      ]
     },
     "execution_count": 103,
     "metadata": {},
     "output_type": "execute_result"
    },
    {
     "data": {
      "text/plain": [
       "<Figure size 1080x576 with 0 Axes>"
      ]
     },
     "metadata": {},
     "output_type": "display_data"
    },
    {
     "data": {
      "image/png": "[encoded data removed]",
      "text/plain": [
       "<Figure size 508.25x360 with 1 Axes>"
      ]
     },
     "metadata": {
      "needs_background": "light"
     },
     "output_type": "display_data"
    }
   ],
   "source": [
    "plt.figure(figsize=(15,8))\n",
    "sns.catplot(x='moy_%_dep', y='moy_%_user_net', data=df_final, hue='Country Name')"
   ]
  },
  {
   "cell_type": "code",
   "execution_count": null,
   "metadata": {},
   "outputs": [],
   "source": []
  },
  {
   "cell_type": "code",
   "execution_count": null,
   "metadata": {},
   "outputs": [],
   "source": []
  },
  {
   "cell_type": "code",
   "execution_count": null,
   "metadata": {},
   "outputs": [],
   "source": []
  },
  {
   "cell_type": "code",
   "execution_count": null,
   "metadata": {},
   "outputs": [],
   "source": []
  },
  {
   "cell_type": "code",
   "execution_count": null,
   "metadata": {},
   "outputs": [],
   "source": []
  },
  {
   "cell_type": "code",
   "execution_count": null,
   "metadata": {},
   "outputs": [],
   "source": []
  },
  {
   "cell_type": "code",
   "execution_count": null,
   "metadata": {},
   "outputs": [],
   "source": []
  },
  {
   "cell_type": "code",
   "execution_count": null,
   "metadata": {},
   "outputs": [],
   "source": []
  },
  {
   "cell_type": "code",
   "execution_count": null,
   "metadata": {},
   "outputs": [],
   "source": []
  },
  {
   "cell_type": "code",
   "execution_count": null,
   "metadata": {},
   "outputs": [],
   "source": []
  },
  {
   "cell_type": "code",
   "execution_count": null,
   "metadata": {},
   "outputs": [],
   "source": []
  },
  {
   "cell_type": "code",
   "execution_count": null,
   "metadata": {},
   "outputs": [],
   "source": []
  },
  {
   "cell_type": "code",
   "execution_count": null,
   "metadata": {},
   "outputs": [],
   "source": []
  },
  {
   "cell_type": "code",
   "execution_count": null,
   "metadata": {},
   "outputs": [],
   "source": []
  },
  {
   "cell_type": "code",
   "execution_count": 33,
   "metadata": {},
   "outputs": [
    {
     "data": {
      "text/plain": [
       "<AxesSubplot:>"
      ]
     },
     "execution_count": 33,
     "metadata": {},
     "output_type": "execute_result"
    },
    {
     "data": {
      "image/png": "[encoded data removed]",
      "text/plain": [
       "<Figure size 432x288 with 2 Axes>"
      ]
     },
     "metadata": {
      "needs_background": "light"
     },
     "output_type": "display_data"
    }
   ],
   "source": [
    "sns.heatmap(df_final[['moy_%_dep', 'moy_%_user_net']].corr())"
   ]
  },
  {
   "cell_type": "code",
   "execution_count": null,
   "metadata": {},
   "outputs": [],
   "source": []
  },
  {
   "cell_type": "markdown",
   "metadata": {},
   "source": [
    "# 4 - Déterminer des ordres de grandeurs des indicateurs statistiques classiques pour les différentes zones géographiques et pays du monde (moyenne/médiane/écart-type par pays et par continent ou bloc géographique)"
   ]
  },
  {
   "cell_type": "code",
   "execution_count": null,
   "metadata": {},
   "outputs": [],
   "source": []
  },
  {
   "cell_type": "code",
   "execution_count": null,
   "metadata": {},
   "outputs": [],
   "source": []
  },
  {
   "cell_type": "code",
   "execution_count": null,
   "metadata": {},
   "outputs": [],
   "source": []
  }
 ],
 "metadata": {
  "kernelspec": {
   "display_name": "Python 3",
   "language": "python",
   "name": "python3"
  },
  "language_info": {
   "codemirror_mode": {
    "name": "ipython",
    "version": 3
   },
   "file_extension": ".py",
   "mimetype": "text/x-python",
   "name": "python",
   "nbconvert_exporter": "python",
   "pygments_lexer": "ipython3",
   "version": "3.8.5"
  }
 },
 "nbformat": 4,
 "nbformat_minor": 4
}
